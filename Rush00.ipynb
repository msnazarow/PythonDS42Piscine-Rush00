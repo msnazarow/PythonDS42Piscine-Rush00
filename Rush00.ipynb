{
  "nbformat": 4,
  "nbformat_minor": 0,
  "metadata": {
    "colab": {
      "name": "Untitled1.ipynb",
      "provenance": [],
      "collapsed_sections": []
    },
    "kernelspec": {
      "name": "python3",
      "display_name": "Python 3"
    },
    "language_info": {
      "name": "python"
    }
  },
  "cells": [
    {
      "cell_type": "markdown",
      "source": [
        "#Отчет об Rush00\n"
      ],
      "metadata": {
        "id": "0HaDBxekva15"
      }
    },
    {
      "cell_type": "code",
      "source": [
        "import re\n",
        "from enum import Enum\n",
        "import urllib\n",
        "import requests\n",
        "from bs4 import BeautifulSoup\n",
        "import timeit\n",
        "from functools import reduce\n",
        "from typing import List, Dict\n",
        "from collections import Counter, OrderedDict\n",
        "from datetime import date"
      ],
      "metadata": {
        "id": "bJ-c81Riv02C"
      },
      "execution_count": null,
      "outputs": []
    },
    {
      "cell_type": "code",
      "source": [
        "from google.colab import drive  # если вы выполняете код из среды Google Colab, нужно подключить свой гугл-диск,\n",
        "drive.mount('/content/drive')"
      ],
      "metadata": {
        "colab": {
          "base_uri": "https://localhost:8080/"
        },
        "id": "raXJlSrS9wp5",
        "outputId": "633a92cc-7348-4339-e7a4-c93222867fda"
      },
      "execution_count": null,
      "outputs": [
        {
          "output_type": "stream",
          "name": "stdout",
          "text": [
            "Mounted at /content/drive\n"
          ]
        }
      ]
    },
    {
      "cell_type": "markdown",
      "source": [
        "Вспомогательные методы"
      ],
      "metadata": {
        "id": "gm4dohun31fC"
      }
    },
    {
      "cell_type": "code",
      "source": [
        "def mean(seq):\n",
        "\tif len(seq) == 0:\n",
        "\t\treturn float('nan')\n",
        "\treturn sum(seq) / len(seq)\n",
        "\n",
        "\n",
        "def median(seq):\n",
        "\tif len(seq) == 0:\n",
        "\t\treturn float('nan')\n",
        "\tseq = sorted(seq)\n",
        "\treturn seq[len(seq) // 2] if len(seq) % 2 == 1 else (seq[len(seq) // 2 - 1] + seq[len(seq) // 2]) / 2\n",
        "\n",
        "\n",
        "def variance(seq):\n",
        "\tif len(seq) == 0:\n",
        "\t\treturn float('nan')\n",
        "\treturn sum([(x - mean(seq)) ** 2 for x in seq]) / len(seq)\n"
      ],
      "metadata": {
        "id": "Jq-bxFnNxRhL"
      },
      "execution_count": 20,
      "outputs": []
    },
    {
      "cell_type": "markdown",
      "source": [
        "Класс Links"
      ],
      "metadata": {
        "id": "Z0L4QKTa54Qy"
      }
    },
    {
      "cell_type": "code",
      "execution_count": 65,
      "metadata": {
        "id": "OKB0iq0XuM5g"
      },
      "outputs": [],
      "source": [
        "class Links:\n",
        "\t\"\"\"\n",
        "\tAnalyzing data from links.csv\n",
        "\t\"\"\"\n",
        "\tdef __init__(self, path_to_the_file):\n",
        "\t\t\"\"\"\n",
        "\t\tPut here any fields that you think you will need.\n",
        "\t\t\"\"\"\n",
        "\t\tdata = []\n",
        "\t\t# проверка на открытие файла\n",
        "\t\twith open(path_to_the_file, 'r') as f:\n",
        "\t\t\tstr_data = (f.read().lower())\n",
        "\t\tdata = str_data.split('\\n')\n",
        "\t\tnext_data = []\n",
        "\t\tfor i in data[1:len(data) - 1]:\n",
        "\t\t\tdata = re.split(\",(?=(?:[^\\\"]*\\\"[^\\\"]*\\\")*[^\\\"]*$)\", i)\n",
        "\t\t\t# next_data.append(movieId, imdbId, tmdbId)\n",
        "\t\t\tnext_data.append(data)\n",
        "\t\t# print(next_data)\n",
        "\t\tself.data_file = next_data\n",
        "\t\tself.list_movies_data = []\n",
        "\t\tfor i in range(0, 10):\n",
        "\t\t\turl = f'https://www.imdb.com/title/tt{self.data_file[i][1]}/'\n",
        "\t\t\theaders = {'User-Agent': 'My User Agent 1.0',\n",
        "\t\t\t'From': f'https://www.imdb.com/title/tt{self.data_file[i][1]}/'\n",
        "\t\t\t}\n",
        "\t\t\tpage = urllib.request.urlopen(urllib.request.Request(url=url, headers=headers)).read()\n",
        "\t\t\tsoup = BeautifulSoup(page, 'lxml')\n",
        "\t\t\ttags = soup.find_all('li', role='presentation', class_='ipc-metadata-list__item')\n",
        "\t\t\tfor tag in tags:\n",
        "\t\t\t\tif (tag.text.find('Director') != -1):\n",
        "\t\t\t\t\tDirector = tag.text.replace('Director', '')\n",
        "\t\t\t\t\tbreak\n",
        "\t\t\tfor tag in tags:\n",
        "\t\t\t\tif (tag.text.find('Budget') != -1):\n",
        "\t\t\t\t\tBudget = tag.text.replace('Budget', '')\n",
        "\t\t\t\t\tbreak\n",
        "\t\t\tfor tag in tags:\n",
        "\t\t\t\tif (tag.text.find('Also known as') != -1):\n",
        "\t\t\t\t\tfilm = tag.text.replace('Also known as', '')\n",
        "\t\t\t\t\tbreak\n",
        "\t\t\tfor tag in tags:\n",
        "\t\t\t\tif (tag.text.find('Gross worldwide') != -1):\n",
        "\t\t\t\t\tGross = tag.text.replace('Gross worldwide', '')\n",
        "\t\t\t\t\tbreak\n",
        "\t\t\tfor tag in tags:\n",
        "\t\t\t\tif (tag.text.find('Runtime') != -1):\n",
        "\t\t\t\t\tRuntime = tag.text.replace('Runtime', '')\n",
        "\t\t\t\t\tbreak\n",
        "\t\t\tfield_data = [self.data_file[i][1], film, Director, Budget, Gross, Runtime]\n",
        "\t\t\tself.list_movies_data.append(field_data)\n",
        "\n",
        "\tdef get_imdb(list_of_movies, list_of_fields):\n",
        "\t\t\"\"\"\n",
        "\t\tThe method returns a list of lists [movieId, field1, field2, field3, ...] for the list of movies given as the argument (movieId).\n",
        "\t\tFor example, [movieId, Director, Budget, Cumulative Worldwide Gross, Runtime].\n",
        "\t\tThe values should be parsed from the IMDB webpages of the movies.\n",
        "\t\tSort it by movieId descendingly.\n",
        "\t\t\"\"\"\n",
        "\t\tlist_movies_data = []\n",
        "\t\tfor i in list_of_movies:\n",
        "\t\t\turl = f'https://www.imdb.com/title/tt{i}/'\n",
        "\t\t\theaders = {'User-Agent': 'My User Agent 1.0',\n",
        "\t\t\t'From': f'https://www.imdb.com/title/tt{i}/'\n",
        "\t\t\t}\n",
        "\t\t\tpage = urllib.request.urlopen(urllib.request.Request(url=url, headers=headers)).read()\n",
        "\t\t\tsoup = BeautifulSoup(page, 'lxml')\n",
        "\t\t\ttags = soup.find_all('li', role='presentation', class_='ipc-metadata-list__item')\n",
        "\t\t\tfield_data = [i]\n",
        "\t\t\tfor field in list_of_fields:\n",
        "\t\t\t\tfor tag in tags:\n",
        "\t\t\t\t\tif (tag.text.find(field) != -1):\n",
        "\t\t\t\t\t\tfield_value = tag.text.replace(field, '')\n",
        "\t\t\t\t\t\tbreak\n",
        "\t\t\t\tfield_data.append(field_value)\n",
        "\t\t\tlist_movies_data.append(field_data)\n",
        "\t\timdb_info = list(sorted(list_movies_data, key=lambda x: (-int(x[0]))))\n",
        "\t\treturn imdb_info\n",
        "\n",
        "\t\t\n",
        "\tdef top_directors(self, n):\n",
        "\t\t\"\"\"\n",
        "\t\tThe method returns a dict with top-n directors where the keys are directors and \n",
        "\t\tthe values are numbers of movies created by them. Sort it by numbers descendingly.\n",
        "\t\t\"\"\"\n",
        "\t\tlist_movies = []\n",
        "\t\tif (n > len(self.list_movies_data) and n <= 0):\n",
        "\t\t\tValueError('n > list')\n",
        "\t\tfor i in range(0, n):\n",
        "\t\t\tlist_movies.append([self.list_movies_data[i][2], self.list_movies_data[i][0]])\n",
        "\t\ta = sorted(list_movies)\n",
        "\t\tdirectors = dict()\n",
        "\t\tfor i in a:\n",
        "\t\t\tdirectors[i[0]] = i[1]\n",
        "\t\treturn directors\n",
        "\t\t\n",
        "\tdef most_expensive(self, n):\n",
        "\t\t\"\"\"\n",
        "\t\tThe method returns a dict with top-n movies where the keys are movie titles and\n",
        "\t\tthe values are their budgets. Sort it by budgets descendingly.\n",
        "\t\t\"\"\"\n",
        "\t\tlist_movies = []\n",
        "\t\tif (n > len(self.list_movies_data) and n <= 0):\n",
        "\t\t\tValueError('n > list')\n",
        "\t\tfor i in range(0, n):\n",
        "\t\t\tlist_movies.append([self.list_movies_data[i][1], self.list_movies_data[i][3]])\n",
        "\t\ta = sorted(list_movies)\n",
        "\t\tbudgets = dict()\n",
        "\t\tfor i in a:\n",
        "\t\t\tbudgets[i[0]] = i[1]\n",
        "\t\treturn budgets\n",
        "\t\t\n",
        "\tdef most_profitable(self, n):\n",
        "\t\t\"\"\"\n",
        "\t\tThe method returns a dict with top-n movies where the keys are movie titles and\n",
        "\t\tthe values are the difference between cumulative worldwide gross and budget.\n",
        "\t\tSort it by the difference descendingly.\n",
        "\t\t\"\"\"\n",
        "\t\tlist_movies = []\n",
        "\t\tif (n > len(self.list_movies_data) and n <= 0):\n",
        "\t\t\tValueError('n > list')\n",
        "\t\tfor i in range(0, n):\n",
        "\t\t\tgross = ''.join(x for x in self.list_movies_data[i][4] if x.isdigit())\n",
        "\t\t\tbudget = ''.join(x for x in self.list_movies_data[i][3] if x.isdigit())\n",
        "\t\t\tlist_movies.append([self.list_movies_data[i][1], int(gross) - int(budget)])\n",
        "\t\ta = sorted(list_movies, key = lambda x: -x[1])\n",
        "\t\tprofits = dict()\n",
        "\t\tfor i in a:\n",
        "\t\t\tprofits[i[0]] = i[1]\n",
        "\t\treturn profits\n",
        "\t\t\n",
        "\tdef longest(self, n):\n",
        "\t\t\"\"\"\n",
        "\t\tThe method returns a dict with top-n movies where the keys are movie titles and\n",
        "\t\tthe values are their runtime. If there are more than one version â€“ choose any.\n",
        "\t\tSort it by runtime descendingly.\n",
        "\t\t\"\"\"\n",
        "\t\tlist_movies = []\n",
        "\t\tif (n > len(self.list_movies_data) and n <= 0):\n",
        "\t\t\tValueError('n > list')\n",
        "\t\tfor i in range(0, n):\n",
        "\t\t\tRuntime_min = int(int(self.list_movies_data[i][5].split(' ')[0]) * 60) + int(self.list_movies_data[i][5].split(' ')[2])\n",
        "\t\t\tfield_data = [self.list_movies_data[i][1], self.list_movies_data[i][5], Runtime_min]\n",
        "\t\t\tlist_movies.append(field_data)\n",
        "\t\ta = sorted(list_movies, key = lambda x: -x[2])\n",
        "\t\truntimes = dict()\n",
        "\t\tfor i in a:\n",
        "\t\t\truntimes[i[0]] = i[1]\n",
        "\t\treturn runtimes\n",
        "\t\t\n",
        "\tdef top_cost_per_minute(self, n):\n",
        "\t\t\"\"\"\n",
        "\t\tThe method returns a dict with top-n movies where the keys are movie titles and\n",
        "\t\tthe values are the budgets divided by their runtime. The budgets can be in different currencies â€“ do not pay attention to it. \n",
        "\t\tThe values should be rounded to 2 decimals. Sort it by the division descendingly.\n",
        "\t\t\"\"\"\n",
        "\t\tlist_movies = []\n",
        "\t\tif (n > len(self.list_movies_data) and n <= 0):\n",
        "\t\t\tValueError('n > list')\n",
        "\t\tfor i in range(0, n):\n",
        "\t\t\tRuntime_min = int(int(self.list_movies_data[i][5].split(' ')[0]) * 60) + int(self.list_movies_data[i][5].split(' ')[2])\n",
        "\t\t\tbudget = ''.join(x for x in self.list_movies_data[i][3] if x.isdigit())\n",
        "\t\t\tfield_data = [self.list_movies_data[i][1], round(int(budget) / Runtime_min, 2)]\n",
        "\t\t\tlist_movies.append(field_data)\n",
        "\t\ta = sorted(list_movies, key = lambda x: -x[1])\n",
        "\t\tcosts = dict()\n",
        "\t\tfor i in a:\n",
        "\t\t\tcosts[i[0]] = i[1]\n",
        "\t\treturn costs"
      ]
    },
    {
      "cell_type": "markdown",
      "source": [
        "Проверка методов класса Links"
      ],
      "metadata": {
        "id": "3xxaXjo-5-dC"
      }
    },
    {
      "cell_type": "code",
      "source": [
        "link = Links(\"/content/drive/MyDrive/links.csv\")\n",
        "print(Links.get_imdb(['0114709'], ['Director', 'Budget', 'Gross worldwide', 'Runtime']))\n",
        "%timeit(Links.get_imdb(['0114709'], ['Director', 'Budget', 'Gross worldwide', 'Runtime']))\n"
      ],
      "metadata": {
        "colab": {
          "base_uri": "https://localhost:8080/"
        },
        "id": "-8pphhej4I3p",
        "outputId": "c85bdc75-9411-4c70-c00e-c878a941788c"
      },
      "execution_count": 67,
      "outputs": [
        {
          "output_type": "stream",
          "name": "stdout",
          "text": [
            "[['0114709', 'John Lasseter', '$30,000,000 (estimated)', '$394,436,586', '1 hour 21 minutes']]\n",
            "1 loop, best of 5: 735 ms per loop\n"
          ]
        }
      ]
    },
    {
      "cell_type": "code",
      "source": [
        "n = 10\n",
        "print(link.top_directors(n))\n",
        "%timeit(link.top_directors(n))"
      ],
      "metadata": {
        "id": "6FjWkekR4I-B",
        "colab": {
          "base_uri": "https://localhost:8080/"
        },
        "outputId": "175e83d7-577b-4644-8bdb-1d588707aa68"
      },
      "execution_count": 60,
      "outputs": [
        {
          "output_type": "stream",
          "name": "stdout",
          "text": [
            "{'Charles Shyer': '0113041', 'Forest Whitaker': '0114885', 'Howard Deutch': '0113228', 'Joe Johnston': '0113497', 'John Lasseter': '0114709', 'Martin Campbell': '0113189', 'Michael Mann': '0113277', 'Peter Hewitt': '0112302', 'Peter Hyams': '0114576', 'Sydney Pollack': '0114319'}\n",
            "The slowest run took 6.36 times longer than the fastest. This could mean that an intermediate result is being cached.\n",
            "100000 loops, best of 5: 5.68 µs per loop\n"
          ]
        }
      ]
    },
    {
      "cell_type": "code",
      "source": [
        "print(link.most_expensive(n))\n",
        "%timeit(link.most_expensive(n))"
      ],
      "metadata": {
        "id": "_HrUf_MP4JBw",
        "colab": {
          "base_uri": "https://localhost:8080/"
        },
        "outputId": "d4bd22a1-d80f-4624-da26-249ae47602d5"
      },
      "execution_count": 61,
      "outputs": [
        {
          "output_type": "stream",
          "name": "stdout",
          "text": [
            "{'Bir oh desem': '$16,000,000 (estimated)', 'Bố Của Cô Dâu 2': '$30,000,000 (estimated)', 'Cái Chết Bất Ngờ': '$35,000,000 (estimated)', 'Fuego contra fuego': '$60,000,000 (estimated)', 'Golden Eye': '$60,000,000 (estimated)', 'Jumanji: Trò Chơi Bí Ẩn': '$65,000,000 (estimated)', 'Toy Story in 3-D': '$30,000,000 (estimated)', 'Сабріна': '$58,000,000 (estimated)', 'Старі буркуни розбушувалися': '$25,000,000 (estimated)', 'Том і Гек': '$58,000,000 (estimated)'}\n",
            "The slowest run took 4.80 times longer than the fastest. This could mean that an intermediate result is being cached.\n",
            "100000 loops, best of 5: 5.97 µs per loop\n"
          ]
        }
      ]
    },
    {
      "cell_type": "code",
      "source": [
        "print(link.most_profitable(n))\n",
        "%timeit(link.most_profitable(n))"
      ],
      "metadata": {
        "id": "5NGYFknn4JJw",
        "colab": {
          "base_uri": "https://localhost:8080/"
        },
        "outputId": "1198662b-05c1-481b-fa96-3d9cadd55c97"
      },
      "execution_count": 62,
      "outputs": [
        {
          "output_type": "stream",
          "name": "stdout",
          "text": [
            "{'Toy Story in 3-D': 364436586, 'Golden Eye': 292194034, 'Jumanji: Trò Chơi Bí Ẩn': 197821940, 'Fuego contra fuego': 127436818, 'Bir oh desem': 65452156, 'Bố Của Cô Dâu 2': 46594107, 'Старі буркуни розбушувалися': 46518503, 'Cái Chết Bất Ngờ': 29350171, 'Сабріна': -4327920, 'Том і Гек': -34079952}\n",
            "10000 loops, best of 5: 55.1 µs per loop\n"
          ]
        }
      ]
    },
    {
      "cell_type": "code",
      "source": [
        "print(link.longest(n))\n",
        "%timeit(link.longest(n))"
      ],
      "metadata": {
        "id": "3f0LJ2RR403B",
        "colab": {
          "base_uri": "https://localhost:8080/"
        },
        "outputId": "aab487ff-7eea-4ad0-c9c9-d2d817c9882b"
      },
      "execution_count": 63,
      "outputs": [
        {
          "output_type": "stream",
          "name": "stdout",
          "text": [
            "{'Fuego contra fuego': '2 hours 50 minutes', 'Golden Eye': '2 hours 10 minutes', 'Сабріна': '2 hours 7 minutes', 'Bir oh desem': '2 hours 4 minutes', 'Cái Chết Bất Ngờ': '1 hour 51 minutes', 'Bố Của Cô Dâu 2': '1 hour 46 minutes', 'Jumanji: Trò Chơi Bí Ẩn': '1 hour 44 minutes', 'Старі буркуни розбушувалися': '1 hour 41 minutes', 'Том і Гек': '1 hour 37 minutes', 'Toy Story in 3-D': '1 hour 21 minutes'}\n",
            "100000 loops, best of 5: 18.6 µs per loop\n"
          ]
        }
      ]
    },
    {
      "cell_type": "code",
      "source": [
        "print(link.top_cost_per_minute(n))\n",
        "%timeit(link.top_cost_per_minute(n))"
      ],
      "metadata": {
        "id": "pvJVS5Zi5n_i",
        "colab": {
          "base_uri": "https://localhost:8080/"
        },
        "outputId": "13a0c66a-189f-49b8-8d45-bbf3c3363174"
      },
      "execution_count": 64,
      "outputs": [
        {
          "output_type": "stream",
          "name": "stdout",
          "text": [
            "{'Jumanji: Trò Chơi Bí Ẩn': 625000.0, 'Том і Гек': 597938.14, 'Golden Eye': 461538.46, 'Сабріна': 456692.91, 'Toy Story in 3-D': 370370.37, 'Fuego contra fuego': 352941.18, 'Cái Chết Bất Ngờ': 315315.32, 'Bố Của Cô Dâu 2': 283018.87, 'Старі буркуни розбушувалися': 247524.75, 'Bir oh desem': 129032.26}\n",
            "10000 loops, best of 5: 56.6 µs per loop\n"
          ]
        }
      ]
    },
    {
      "cell_type": "markdown",
      "source": [
        "Класс Tags"
      ],
      "metadata": {
        "id": "oVPfjmUE6EKY"
      }
    },
    {
      "cell_type": "code",
      "source": [
        "class Tags:\n",
        "\tdef __init__(self, path_to_the_file):\n",
        "\t\tdata = []\n",
        "\t\t# проверка на открытие файла\n",
        "\t\twith open(path_to_the_file) as file:\n",
        "\t\t\tself.__tags: List[str] = []\n",
        "\t\t\tnext(file)\n",
        "\t\t\tfor line in file:\n",
        "\t\t\t\t_, _, tag, _ = re.split(\",(?=(?:[^\\\"]*\\\"[^\\\"]*\\\")*[^\\\"]*$)\", line.strip())\n",
        "\t\t\t\twhile re.match(\"\\\"(.*)\\\"\", tag):\n",
        "\t\t\t\t\ttag = re.sub(\"\\\"(.*)\\\"\", r\"\\1\", tag)\n",
        "\t\t\t\tself.__tags.append(tag)\n",
        "\t\t\n",
        "\t\n",
        "\tdef most_words(self, n):\n",
        "\t\t\"\"\"\n",
        "\t\tThe method returns top-n tags with most words inside. It is a dict \n",
        " \t\twhere the keys are tags and the values are the number of words inside the tag.\n",
        "\t\tDrop the duplicates. Sort it by numbers descendingly.\n",
        "        \"\"\"\n",
        "\t\treturn dict(sorted({x: len(re.findall(r\"\\w+\", x)) for x in set(self.__tags)}.items(), key=lambda x: -x[1])[:n])\n",
        "\n",
        "\tdef longest(self, n):\n",
        "\t\t\"\"\"\n",
        "\t\tThe method returns top-n longest tags in terms of the number of characters.\n",
        "\t\tIt is a list of the tags. Drop the duplicates. Sort it by numbers descendingly.\n",
        "\t\t\"\"\"\n",
        "\t\treturn dict(sorted({x: len(x) for x in set(self.__tags)}.items(), key=lambda x: -x[1])[:n])\n",
        "\n",
        "\tdef most_words_and_longest(self, n):\n",
        "\t\t\"\"\"\n",
        "\t\tThe method returns the intersection between top-n tags with most words inside and \n",
        "\t\ttop-n longest tags in terms of the number of characters.\n",
        "\t\tDrop the duplicates. It is a list of the tags.\n",
        "\t\t\"\"\"\n",
        "\t\treturn list(set(self.most_words(n)).intersection(self.longest(n)))\n",
        "        \n",
        "\tdef most_popular(self, n):\n",
        "\t\t\"\"\"\n",
        "\t\tThe method returns the most popular tags. \n",
        "\t\tIt is a dict where the keys are tags and the values are the counts.\n",
        "\t\tDrop the duplicates. Sort it by counts descendingly.\n",
        "\t\t\"\"\"\n",
        "\t\treturn dict(Counter(self.__tags).most_common(n))\n",
        "        \n",
        "\tdef tags_with(self, word):\n",
        "\t\t\"\"\"\n",
        "\t\tThe method returns all unique tags that include the word given as the argument.\n",
        "\t\tDrop the duplicates. It is a list of the tags. Sort it by tag names alphabetically.\n",
        "\t\t\"\"\"\n",
        "\t\treturn sorted((filter(lambda x: re.search(r'\\b{}\\b'.format(word), x), set(self.__tags))))"
      ],
      "metadata": {
        "id": "lUWXo3Auvuao"
      },
      "execution_count": 75,
      "outputs": []
    },
    {
      "cell_type": "markdown",
      "source": [
        "Проверка методов класса Tags"
      ],
      "metadata": {
        "id": "ESZGTtTF6mqy"
      }
    },
    {
      "cell_type": "code",
      "source": [
        "tags = Tags(\"/content/drive/MyDrive/tags.csv\")\n",
        "print(tags.most_words(10))\n",
        "%timeit(tags.most_words(10))"
      ],
      "metadata": {
        "colab": {
          "base_uri": "https://localhost:8080/"
        },
        "id": "PKhWm6Nxvucw",
        "outputId": "afd85275-4831-4191-900a-6edaad6ad019"
      },
      "execution_count": 76,
      "outputs": [
        {
          "output_type": "stream",
          "name": "stdout",
          "text": [
            "{'Something for everyone in this one... saw it without and plan on seeing it with kids!': 16, 'the catholic church is the most corrupt organization in history': 10, 'villain nonexistent or not needed for good story': 8, 'It was melodramatic and kind of dumb': 7, 'stop using useless characters for filler': 6, '06 Oscar Nominated Best Movie - Animation': 6, 'r:disturbing violent content including rape': 6, 'Academy award (Best Supporting Actress)': 5, 'stop looking at me swan': 5, 'based on a TV show': 5}\n",
            "100 loops, best of 5: 2.46 ms per loop\n"
          ]
        }
      ]
    },
    {
      "cell_type": "code",
      "source": [
        "print(tags.longest(10))\n",
        "%timeit(tags.most_words(10))"
      ],
      "metadata": {
        "colab": {
          "base_uri": "https://localhost:8080/"
        },
        "id": "S6SlEOd_3lUx",
        "outputId": "875c60bc-92a7-4c4c-a788-8a3a0d83f462"
      },
      "execution_count": 77,
      "outputs": [
        {
          "output_type": "stream",
          "name": "stdout",
          "text": [
            "{'Something for everyone in this one... saw it without and plan on seeing it with kids!': 85, 'the catholic church is the most corrupt organization in history': 63, 'villain nonexistent or not needed for good story': 48, 'r:disturbing violent content including rape': 43, '06 Oscar Nominated Best Movie - Animation': 41, 'stop using useless characters for filler': 40, 'Academy award (Best Supporting Actress)': 39, 'Oscar (Best Effects - Visual Effects)': 37, 'It was melodramatic and kind of dumb': 36, 'r:sustained strong stylized violence': 36}\n",
            "100 loops, best of 5: 2.41 ms per loop\n"
          ]
        }
      ]
    },
    {
      "cell_type": "code",
      "source": [
        "print(tags.most_words_and_longest(10))\n",
        "%timeit(tags.most_words(10))"
      ],
      "metadata": {
        "id": "Gsm3rvz_vufo",
        "colab": {
          "base_uri": "https://localhost:8080/"
        },
        "outputId": "d9bd8d7f-1f0d-4986-ef8d-194ba77f6b6c"
      },
      "execution_count": 78,
      "outputs": [
        {
          "output_type": "stream",
          "name": "stdout",
          "text": [
            "['Academy award (Best Supporting Actress)', '06 Oscar Nominated Best Movie - Animation', 'villain nonexistent or not needed for good story', 'It was melodramatic and kind of dumb', 'r:disturbing violent content including rape', 'the catholic church is the most corrupt organization in history', 'Something for everyone in this one... saw it without and plan on seeing it with kids!', 'stop using useless characters for filler']\n",
            "100 loops, best of 5: 2.44 ms per loop\n"
          ]
        }
      ]
    },
    {
      "cell_type": "code",
      "source": [
        "print(tags.most_popular(10))\n",
        "%timeit(tags.most_popular(10))"
      ],
      "metadata": {
        "id": "5UqzINtm3xSA",
        "colab": {
          "base_uri": "https://localhost:8080/"
        },
        "outputId": "071a8d25-8403-4b2d-85a6-c3be33f42ef1"
      },
      "execution_count": 79,
      "outputs": [
        {
          "output_type": "stream",
          "name": "stdout",
          "text": [
            "{'In Netflix queue': 131, 'atmospheric': 36, 'superhero': 24, 'thought-provoking': 24, 'funny': 23, 'Disney': 23, 'surreal': 23, 'religion': 22, 'sci-fi': 21, 'dark comedy': 21}\n",
            "1000 loops, best of 5: 493 µs per loop\n"
          ]
        }
      ]
    },
    {
      "cell_type": "code",
      "source": [
        "print(tags.tags_with('a'))\n",
        "%timeit(tags.tags_with('a'))"
      ],
      "metadata": {
        "id": "kDRCrMrt39Nh",
        "colab": {
          "base_uri": "https://localhost:8080/"
        },
        "outputId": "9f2a9516-5b0e-4dae-c4c4-f1f03b5b8431"
      },
      "execution_count": 80,
      "outputs": [
        {
          "output_type": "stream",
          "name": "stdout",
          "text": [
            "['Strangers on a Train', 'a clever chef rat', 'a dingo ate my baby', 'based on a TV show', 'based on a book', 'based on a play', 'based on a true story', 'building a family', 'coulda been a contender', 'start of a beautiful friendship']\n",
            "100 loops, best of 5: 2.41 ms per loop\n"
          ]
        }
      ]
    },
    {
      "cell_type": "markdown",
      "source": [
        "Класс Movie"
      ],
      "metadata": {
        "id": "gY-Y8mQy7kwJ"
      }
    },
    {
      "cell_type": "code",
      "source": [
        "import re\n",
        "from functools import reduce\n",
        "from typing import List, Dict\n",
        "from collections import Counter, OrderedDict\n",
        "from datetime import date\n",
        "\n",
        "\n",
        "class Movie:\n",
        "\tdef __init__(self, id, title, genres):\n",
        "\t\tself.id = id\n",
        "\t\tself.title = title\n",
        "\t\ttry:\n",
        "\t\t\tself.year = int(re.sub('.*\\(([0-9]{4})\\).*', r'\\1', title))\n",
        "\t\texcept:\n",
        "\t\t\tself.year = 2000\n",
        "\t\tself.genres = [] if genres == '(no genres listed)' else genres.split('|')\n",
        "\n",
        "class Movies:\n",
        "\t\"\"\"\n",
        "\tAnalyzing data from movies.csv\n",
        "\t\"\"\"\n",
        "\tdef __init__(self, path_to_the_file: str):\n",
        "\t\t\"\"\"\n",
        "        Put here any fields that you think you will need.\n",
        "        \"\"\"\n",
        "\t\twith open(path_to_the_file) as file:\n",
        "\t\t\tself.__movies: Dict[Movie] = {}\n",
        "\t\t\tnext(file)\n",
        "\t\t\tfor line in file:\n",
        "\t\t\t\tmovieId, title, genres = re.split(\",(?=(?:[^\\\"]*\\\"[^\\\"]*\\\")*[^\\\"]*$)\", line.strip())\n",
        "\t\t\t\twhile re.match(\"\\\"(.*)\\\"\", title):\n",
        "\t\t\t\t\ttitle = re.sub(\"\\\"(.*)\\\"\", r\"\\1\", title)\n",
        "\t\t\t\tself.__movies[movieId] = (Movie(movieId, title, genres))\n",
        "\n",
        "\tdef dist_by_release(self):\n",
        "\t\t\"\"\"\n",
        "\t\tThe method returns a dict or an OrderedDict where the keys are years and the values are counts.\n",
        "\t\tYou need to extract years from the titles. Sort it by counts descendingly.\n",
        "\t\t\"\"\"\n",
        "\t\treturn dict(Counter(map(lambda x: x.year, self.__movies.values())).most_common())\n",
        "\n",
        "\tdef dist_by_genres(self):\n",
        "\t\t\"\"\"\n",
        "\t\tThe method returns a dict where the keys are genres and the values are counts.\n",
        "\t\tSort it by counts descendingly.\n",
        "\t\t\"\"\"\n",
        "\t\treturn dict(Counter(reduce(lambda a, b: a + b, map(lambda x: x.genres, self.__movies.values()))).most_common())\n",
        "\n",
        "\tdef most_genres(self, n):\n",
        "\t\t\"\"\"\n",
        "\t\tThe method returns a dict with top-n movies where the keys are movie titles and\n",
        "\t\tthe values are the number of genres of the movie. Sort it by numbers descendingly.\n",
        "\t\t\"\"\"\n",
        "\t\treturn dict(Counter({x.title: len(x.genres) for x in self.__movies.values()}).most_common(n))\n",
        "\n",
        "\tdef __getitem__(self, item):\n",
        "\t\treturn self.__movies[item]"
      ],
      "metadata": {
        "id": "Tw2QPkx57lUI"
      },
      "execution_count": 49,
      "outputs": []
    },
    {
      "cell_type": "markdown",
      "source": [
        "Проверка методов класса Movie"
      ],
      "metadata": {
        "id": "Cb80h1bn360w"
      }
    },
    {
      "cell_type": "code",
      "source": [
        "movies = Movies(\"/content/drive/MyDrive/movies.csv\")\n",
        "print(movies.most_genres(10))\n",
        "%timeit(movies.most_genres(10))"
      ],
      "metadata": {
        "id": "LgmRaR507lcQ",
        "colab": {
          "base_uri": "https://localhost:8080/"
        },
        "outputId": "287f2ad4-a534-484d-d6ff-5b27b5f2823e"
      },
      "execution_count": 50,
      "outputs": [
        {
          "output_type": "stream",
          "name": "stdout",
          "text": [
            "{'Rubber (2010)': 10, 'Patlabor: The Movie (Kidô keisatsu patorebâ: The Movie) (1989)': 8, 'Mulan (1998)': 7, 'Who Framed Roger Rabbit? (1988)': 7, 'Osmosis Jones (2001)': 7, 'Interstate 60 (2002)': 7, 'Robots (2005)': 7, 'Pulse (2006)': 7, 'Aqua Teen Hunger Force Colon Movie Film for Theaters (2007)': 7, 'Enchanted (2007)': 7}\n",
            "100 loops, best of 5: 4.36 ms per loop\n"
          ]
        }
      ]
    },
    {
      "cell_type": "code",
      "source": [
        "print(movies.dist_by_genres())\n",
        "%timeit(movies.dist_by_genres())"
      ],
      "metadata": {
        "colab": {
          "base_uri": "https://localhost:8080/"
        },
        "id": "IaWj8n105KI4",
        "outputId": "e526e9a2-b6ea-41e6-cd59-470d62f22ef0"
      },
      "execution_count": 51,
      "outputs": [
        {
          "output_type": "stream",
          "name": "stdout",
          "text": [
            "{'Drama': 4361, 'Comedy': 3756, 'Thriller': 1894, 'Action': 1828, 'Romance': 1596, 'Adventure': 1263, 'Crime': 1199, 'Sci-Fi': 980, 'Horror': 978, 'Fantasy': 779, 'Children': 664, 'Animation': 611, 'Mystery': 573, 'Documentary': 440, 'War': 382, 'Musical': 334, 'Western': 167, 'IMAX': 158, 'Film-Noir': 87}\n",
            "1 loop, best of 5: 555 ms per loop\n"
          ]
        }
      ]
    },
    {
      "cell_type": "code",
      "source": [
        "print(movies.dist_by_release())\n",
        "%timeit(movies.dist_by_release())"
      ],
      "metadata": {
        "colab": {
          "base_uri": "https://localhost:8080/"
        },
        "id": "F0ZUaiJ65KAR",
        "outputId": "8b2462be-01ef-482d-f6ec-70b5219959d8"
      },
      "execution_count": 52,
      "outputs": [
        {
          "output_type": "stream",
          "name": "stdout",
          "text": [
            "{2002: 311, 2000: 296, 2006: 295, 2001: 294, 2007: 284, 2009: 282, 2003: 279, 2004: 279, 2014: 278, 1996: 276, 2015: 274, 2005: 273, 2008: 269, 1999: 263, 1997: 260, 1995: 259, 1998: 258, 2011: 254, 2010: 247, 2013: 239, 1994: 237, 2012: 233, 2016: 218, 1993: 198, 1992: 167, 1988: 165, 1987: 153, 1990: 147, 1991: 147, 2017: 147, 1989: 142, 1986: 139, 1985: 126, 1984: 101, 1981: 92, 1980: 89, 1982: 87, 1983: 83, 1979: 69, 1977: 63, 1973: 59, 1978: 59, 1965: 47, 1971: 47, 1974: 45, 1976: 44, 1964: 43, 1967: 42, 1968: 42, 1975: 42, 1966: 42, 2018: 41, 1962: 40, 1972: 39, 1963: 39, 1959: 37, 1960: 37, 1955: 36, 1969: 35, 1961: 34, 1970: 33, 1957: 33, 1958: 31, 1953: 30, 1956: 30, 1940: 25, 1949: 25, 1954: 23, 1942: 23, 1939: 23, 1946: 23, 1951: 22, 1950: 21, 1947: 20, 1948: 20, 1941: 18, 1936: 18, 1945: 17, 1937: 16, 1952: 16, 1944: 16, 1938: 15, 1931: 14, 1935: 13, 1933: 12, 1934: 11, 1943: 10, 1932: 9, 1927: 7, 1930: 5, 1926: 5, 1924: 5, 1929: 4, 1928: 4, 1925: 4, 1923: 4, 1916: 4, 1920: 2, 1922: 1, 1919: 1, 1921: 1, 1915: 1, 1917: 1, 1902: 1, 1903: 1, 1908: 1}\n",
            "100 loops, best of 5: 2.19 ms per loop\n"
          ]
        }
      ]
    },
    {
      "cell_type": "markdown",
      "source": [
        "Класс Ratings"
      ],
      "metadata": {
        "id": "h86d-PnD6S8X"
      }
    },
    {
      "cell_type": "code",
      "source": [
        "class Rating:\n",
        "\tdef __init__(self, userId, movieId, rating, timestamp):\n",
        "\t\tself.userId = userId\n",
        "\t\tself.movieId = movieId\n",
        "\t\tself.userId = userId\n",
        "\t\tself.rating = float(rating)\n",
        "\t\tself.year = date.fromtimestamp(int(timestamp))\n",
        "\n",
        "\n",
        "class Ratings:\n",
        "\t\"\"\"\n",
        "    Analyzing data from ratings.csv\n",
        "    \"\"\"\n",
        "\n",
        "\tdef __init__(self, path_to_the_ratings, path_to_movies):\n",
        "\t\t\"\"\"\n",
        "        Put here any fields that you think you will need.\n",
        "        \"\"\"\n",
        "\t\tself.__ratings = Ratings.Movies(path_to_the_ratings, Movies(path_to_movies))\n",
        "\t\tself.__users = Ratings.Users(path_to_the_ratings, Movies(path_to_movies))\n",
        "\n",
        "\t@property\n",
        "\tdef ratings(self):\n",
        "\t\treturn self.__ratings\n",
        "\n",
        "\t@property\n",
        "\tdef users(self):\n",
        "\t\treturn self.__users\n",
        "\n",
        "\tdef dist_by_year(self):\n",
        "\t\t\"\"\"\n",
        "        The method returns a dict where the keys are years and the values are counts.\n",
        "        Sort it by years ascendingly. You need to extract years from timestamps.\n",
        "        \"\"\"\n",
        "\t\treturn self.__ratings.dist_by_year()\n",
        "\n",
        "\tdef dist_by_rating(self):\n",
        "\t\t\"\"\"\n",
        "        The method returns a dict where the keys are ratings and the values are counts.\n",
        "     Sort it by ratings ascendingly.\n",
        "        \"\"\"\n",
        "\t\treturn self.__ratings.dist_by_rating()\n",
        "\n",
        "\tdef top_by_num_of_ratings(self, n):\n",
        "\t\t\"\"\"\n",
        "        The method returns top-n movies by the number of ratings.\n",
        "        It is a dict where the keys are movie titles and the values are numbers.\n",
        "        Sort it by numbers descendingly.\n",
        "        \"\"\"\n",
        "\t\treturn self.__ratings.top_by_num_of_ratings(n)\n",
        "\n",
        "\tdef top_by_ratings(self, n, metric='average'):\n",
        "\t\t\"\"\"\n",
        "        The method returns top-n movies by the average or median of the ratings.\n",
        "        It is a dict where the keys are movie titles and the values are metric values.\n",
        "        Sort it by metric descendingly.\n",
        "        The values should be rounded to 2 decimals.\n",
        "        \"\"\"\n",
        "\t\treturn self.__ratings.top_by_ratings(n, metric)\n",
        "\n",
        "\t#\n",
        "\tdef top_controversial(self, n):\n",
        "\t\t\"\"\"\n",
        "        The method returns top-n movies by the variance of the ratings.\n",
        "        It is a dict where the keys are movie titles and the values are the variances.\n",
        "      Sort it by variance descendingly.\n",
        "        The values should be rounded to 2 decimals.\n",
        "        \"\"\"\n",
        "\t\treturn self.__ratings.top_controversial(n)\n",
        "\n",
        "\tclass Movies:\n",
        "\t\tdef __init__(self, path_to_the_file, movies: Movies):\n",
        "\t\t\tself._movies = movies\n",
        "\t\t\twith open(path_to_the_file) as file:\n",
        "\t\t\t\tself._ratings: List[Rating] = []\n",
        "\t\t\t\tnext(file)\n",
        "\t\t\t\tfor line in file:\n",
        "\t\t\t\t\tuserId, movieId, rating, timestamp = re.split(\",(?=(?:[^\\\"]*\\\"[^\\\"]*\\\")*[^\\\"]*$)\", line.strip())\n",
        "\t\t\t\t\tself._ratings.append(Rating(userId, movieId, rating, timestamp))\n",
        "\n",
        "\t\tdef dist_by_year(self):\n",
        "\t\t\t\"\"\"\n",
        "            The method returns a dict where the keys are years and the values are counts.\n",
        "            Sort it by years ascendingly. You need to extract years from timestamps.\n",
        "            \"\"\"\n",
        "\t\t\treturn dict(Counter(map(lambda x: x.year, self._ratings)).most_common()[::-1])\n",
        "\n",
        "\t\tdef dist_by_rating(self):\n",
        "\t\t\t\"\"\"\n",
        "            The method returns a dict where the keys are ratings and the values are counts.\n",
        "         Sort it by ratings ascendingly.\n",
        "            \"\"\"\n",
        "\t\t\treturn dict(Counter(map(lambda x: x.rating, self._ratings)).most_common()[::-1])\n",
        "\n",
        "\t\tdef top_by_num_of_ratings(self, n):\n",
        "\t\t\t\"\"\"\n",
        "            The method returns top-n movies by the number of ratings.\n",
        "            It is a dict where the keys are movie titles and the values are numbers.\n",
        "            Sort it by numbers descendingly.\n",
        "            \"\"\"\n",
        "\t\t\treturn {self._movies[x[0]].title: x[1] for x in\n",
        "\t\t\t        Counter(map(lambda x: x.movieId, self._ratings)).most_common(n)}\n",
        "\n",
        "\t\tdef top_by_ratings(self, n, metric=\"average\"):\n",
        "\t\t\t\"\"\"\n",
        "            The method returns top-n movies by the average or median of the ratings.\n",
        "            It is a dict where the keys are movie titles and the values are metric values.\n",
        "            Sort it by metric descendingly.\n",
        "            The values should be rounded to 2 decimals.\n",
        "            \"\"\"\n",
        "\t\t\toutput = {}\n",
        "\t\t\tfor elem in self._ratings:\n",
        "\t\t\t\tif elem.movieId not in output:\n",
        "\t\t\t\t\toutput[elem.movieId] = []\n",
        "\t\t\t\toutput[elem.movieId].append(elem.rating)\n",
        "\t\t\tif metric == \"average\":\n",
        "\t\t\t\tfor movieId in output:\n",
        "\t\t\t\t\toutput[movieId] = round(mean(output[movieId]), 2)\n",
        "\t\t\telif metric == \"median\":\n",
        "\t\t\t\tfor movieId in output:\n",
        "\t\t\t\t\toutput[movieId] = round(median(output[movieId]), 2)\n",
        "\t\t\telse:\n",
        "\t\t\t\treturn []\n",
        "\t\t\treturn {self._movies[elem[0]].title: elem[1] for elem in sorted(output.items(), key=lambda x: -x[1])[:n]}\n",
        "\n",
        "\t\tdef top_controversial(self, n):\n",
        "\t\t\t\"\"\"\n",
        "            The method returns top-n movies by the variance of the ratings.\n",
        "            It is a dict where the keys are movie titles and the values are the variances.\n",
        "            Sort it by variance descendingly.\n",
        "            The values should be rounded to 2 decimals.\n",
        "            \"\"\"\n",
        "\t\t\toutput = {}\n",
        "\t\t\tfor elem in self._ratings:\n",
        "\t\t\t\tif elem.movieId not in output:\n",
        "\t\t\t\t\toutput[elem.movieId] = []\n",
        "\t\t\t\toutput[elem.movieId].append(elem.rating)\n",
        "\t\t\tfor movieId in output:\n",
        "\t\t\t\toutput[movieId] = round(variance(output[movieId]), 2)\n",
        "\t\t\treturn {self._movies[elem[0]].title: elem[1] for elem in sorted(output.items(), key=lambda x: -x[1])[:n]}\n",
        "\n",
        "\tclass Users(Movies):\n",
        "\t\t\"\"\"\n",
        "        In this class, three methods should work.\n",
        "        The 1st returns the distribution of users by the number of ratings made by them.\n",
        "        The 2nd returns the distribution of users by average or median ratings made by them.\n",
        "        The 3rd returns top-n users with the biggest variance of their ratings.\n",
        "        Inherit from the class Movies. Several methods are similar to the methods from it.\n",
        "        \"\"\"\n",
        "\n",
        "\t\tdef dist_by_num_of_ratings(self):\n",
        "\t\t\treturn dict(Counter(map(lambda x: x.userId, self._ratings)).most_common())\n",
        "\n",
        "\t\tdef dist_by_ratings(self, metric=\"average\"):\n",
        "\t\t\toutput = {}\n",
        "\t\t\tfor elem in self._ratings:\n",
        "\t\t\t\tif elem.userId not in output:\n",
        "\t\t\t\t\toutput[elem.userId] = []\n",
        "\t\t\t\toutput[elem.userId].append(elem.rating)\n",
        "\t\t\tif metric == \"average\":\n",
        "\t\t\t\tfor userId in output:\n",
        "\t\t\t\t\toutput[userId] = round(mean(output[userId]), 2)\n",
        "\t\t\telif metric == \"median\":\n",
        "\t\t\t\tfor userId in output:\n",
        "\t\t\t\t\toutput[userId] = round(median(output[userId]), 2)\n",
        "\t\t\telse:\n",
        "\t\t\t\treturn []\n",
        "\t\t\treturn {self._movies[elem[0]].title: elem[1] for elem in sorted(output.items(), key=lambda x: -x[1])}\n",
        "\n",
        "\t\tdef top_controversial(self, n):\n",
        "\t\t\toutput = {}\n",
        "\t\t\tfor elem in self._ratings:\n",
        "\t\t\t\tif elem.userId not in output:\n",
        "\t\t\t\t\toutput[elem.userId] = []\n",
        "\t\t\t\toutput[elem.userId].append(elem.rating)\n",
        "\t\t\tfor userId in output:\n",
        "\t\t\t\toutput[userId] = round(variance(output[userId]), 2)\n",
        "\t\t\treturn dict(sorted(output.items(), key=lambda x: -x[1])[:n])"
      ],
      "metadata": {
        "id": "IQzNmgRR6SPH"
      },
      "execution_count": 33,
      "outputs": []
    },
    {
      "cell_type": "markdown",
      "source": [
        "Проверка методов класса Ratings\n",
        "\n"
      ],
      "metadata": {
        "id": "3K2j-gRz6hDw"
      }
    },
    {
      "cell_type": "code",
      "source": [
        "ratings = Ratings(\"/content/drive/MyDrive/ratings.csv\", \"/content/drive/MyDrive/movies.csv\")\n",
        "print(ratings.users.top_controversial(5))\n",
        "%timeit(ratings.users.top_controversial(5))"
      ],
      "metadata": {
        "id": "jjgOybop6ge_",
        "colab": {
          "base_uri": "https://localhost:8080/"
        },
        "outputId": "326ef08f-490f-4135-a164-657dc8f3a669"
      },
      "execution_count": 53,
      "outputs": [
        {
          "output_type": "stream",
          "name": "stdout",
          "text": [
            "{'3': 4.26, '461': 3.1, '55': 3.09, '259': 2.94, '329': 2.92}\n",
            "1 loop, best of 5: 400 ms per loop\n"
          ]
        }
      ]
    },
    {
      "cell_type": "code",
      "source": [
        "print(ratings.users.dist_by_rating())\n",
        "%timeit(ratings.users.dist_by_rating())"
      ],
      "metadata": {
        "colab": {
          "base_uri": "https://localhost:8080/"
        },
        "id": "o1nwDAIl6pQg",
        "outputId": "c846ecfa-b7e1-46c1-bd7a-ef511241a5b6"
      },
      "execution_count": 54,
      "outputs": [
        {
          "output_type": "stream",
          "name": "stdout",
          "text": [
            "{0.5: 1370, 1.5: 1791, 1.0: 2811, 2.5: 5550, 2.0: 7551, 4.5: 8551, 3.5: 13136, 5.0: 13211, 3.0: 20047, 4.0: 26818}\n",
            "10 loops, best of 5: 26.2 ms per loop\n"
          ]
        }
      ]
    },
    {
      "cell_type": "code",
      "source": [
        "print(ratings.users.dist_by_num_of_ratings())\n",
        "%timeit(ratings.users.dist_by_num_of_ratings())"
      ],
      "metadata": {
        "colab": {
          "base_uri": "https://localhost:8080/"
        },
        "id": "avRJYTa76pIP",
        "outputId": "20cafa7e-10f2-497e-a7c7-2057ddac310a"
      },
      "execution_count": 55,
      "outputs": [
        {
          "output_type": "stream",
          "name": "stdout",
          "text": [
            "{'414': 2698, '599': 2478, '474': 2108, '448': 1864, '274': 1346, '610': 1302, '68': 1260, '380': 1218, '606': 1115, '288': 1055, '249': 1046, '387': 1027, '182': 977, '307': 975, '603': 943, '298': 939, '177': 904, '318': 879, '232': 862, '480': 836, '608': 831, '600': 763, '483': 728, '590': 728, '105': 722, '19': 703, '305': 677, '489': 648, '111': 646, '438': 635, '217': 613, '140': 608, '477': 600, '555': 578, '91': 575, '28': 570, '219': 528, '534': 520, '89': 518, '64': 517, '226': 507, '561': 505, '18': 502, '525': 500, '57': 476, '381': 474, '368': 469, '509': 467, '469': 465, '560': 458, '462': 455, '292': 446, '21': 443, '597': 443, '42': 440, '160': 437, '294': 437, '580': 436, '596': 411, '202': 403, '275': 403, '517': 400, '45': 399, '156': 398, '514': 397, '391': 386, '567': 385, '357': 383, '103': 377, '339': 371, '62': 366, '199': 363, '125': 360, '51': 359, '132': 347, '66': 345, '313': 340, '200': 334, '221': 331, '6': 314, '453': 311, '50': 310, '425': 306, '428': 300, '573': 299, '352': 294, '84': 293, '122': 292, '382': 291, '356': 289, '135': 279, '239': 279, '365': 277, '484': 275, '104': 273, '63': 271, '325': 270, '169': 269, '290': 267, '332': 267, '495': 265, '432': 260, '187': 258, '328': 255, '222': 250, '212': 248, '330': 247, '20': 242, '282': 237, '372': 236, '434': 233, '1': 232, '594': 232, '562': 231, '198': 230, '82': 227, '186': 226, '354': 226, '312': 223, '605': 221, '41': 217, '4': 216, '304': 216, '119': 215, '563': 213, '73': 210, '263': 210, '586': 208, '220': 207, '246': 204, '234': 202, '452': 202, '385': 201, '522': 200, '280': 196, '139': 194, '570': 191, '166': 190, '317': 189, '552': 188, '195': 187, '607': 187, '520': 186, '367': 185, '479': 181, '266': 180, '153': 179, '74': 177, '279': 176, '256': 174, '167': 173, '95': 168, '141': 168, '331': 168, '80': 167, '410': 167, '527': 167, '117': 165, '587': 165, '216': 164, '346': 164, '265': 163, '577': 161, '564': 157, '33': 156, '419': 155, '475': 155, '572': 155, '334': 154, '7': 152, '260': 152, '287': 152, '326': 152, '113': 150, '233': 150, '247': 150, '100': 148, '137': 141, '351': 141, '408': 141, '420': 141, '10': 140, '47': 140, '129': 140, '559': 140, '230': 139, '210': 138, '424': 138, '464': 138, '15': 135, '27': 135, '602': 135, '184': 134, '376': 133, '377': 131, '524': 131, '52': 130, '268': 129, '369': 129, '144': 128, '240': 128, '314': 128, '482': 128, '109': 127, '254': 127, '411': 127, '409': 126, '393': 123, '551': 123, '437': 122, '23': 121, '492': 121, '405': 120, '22': 119, '76': 119, '83': 118, '181': 118, '308': 115, '465': 115, '43': 114, '301': 114, '466': 113, '490': 113, '542': 113, '58': 112, '115': 112, '306': 112, '571': 112, '136': 111, '488': 111, '24': 110, '201': 110, '362': 109, '510': 108, '59': 107, '322': 107, '286': 106, '436': 106, '17': 105, '40': 103, '309': 103, '593': 103, '32': 102, '412': 102, '601': 101, '39': 100, '373': 100, '604': 100, '16': 98, '215': 98, '323': 98, '93': 97, '159': 97, '361': 97, '503': 95, '168': 94, '227': 94, '415': 94, '592': 94, '244': 93, '370': 93, '418': 93, '422': 93, '98': 92, '353': 90, '211': 89, '554': 89, '284': 88, '426': 88, '116': 87, '504': 87, '541': 87, '34': 86, '500': 86, '191': 85, '213': 84, '427': 84, '446': 84, '204': 83, '553': 83, '584': 83, '171': 82, '460': 82, '29': 81, '390': 81, '470': 80, '38': 78, '96': 78, '447': 78, '178': 77, '337': 77, '445': 77, '108': 76, '241': 76, '543': 76, '223': 75, '225': 75, '523': 75, '359': 74, '566': 74, '528': 73, '579': 73, '297': 72, '401': 72, '143': 71, '86': 70, '384': 70, '75': 69, '131': 69, '179': 69, '344': 69, '476': 69, '386': 68, '174': 67, '417': 67, '190': 66, '342': 66, '112': 65, '165': 65, '229': 65, '235': 65, '11': 64, '79': 64, '310': 64, '491': 64, '546': 64, '152': 63, '70': 62, '345': 62, '78': 61, '101': 61, '395': 61, '493': 61, '585': 61, '36': 60, '404': 60, '151': 59, '343': 59, '458': 59, '121': 58, '149': 58, '429': 58, '430': 58, '526': 58, '183': 57, '262': 57, '267': 57, '455': 57, '88': 56, '94': 56, '102': 56, '123': 56, '264': 56, '321': 56, '336': 56, '413': 56, '486': 56, '487': 56, '558': 56, '582': 56, '583': 56, '588': 56, '273': 55, '348': 55, '90': 54, '224': 54, '591': 54, '99': 53, '261': 53, '303': 53, '316': 53, '341': 52, '511': 52, '110': 51, '248': 51, '416': 51, '450': 51, '497': 51, '31': 50, '124': 50, '170': 50, '237': 50, '457': 50, '512': 50, '532': 50, '14': 48, '44': 48, '148': 48, '188': 48, '327': 48, '378': 48, '402': 48, '8': 47, '185': 47, '253': 47, '537': 47, '9': 46, '56': 46, '69': 46, '155': 46, '398': 46, '72': 45, '203': 45, '347': 45, '441': 45, '454': 45, '501': 45, '5': 44, '238': 44, '255': 44, '271': 43, '400': 43, '456': 43, '46': 42, '435': 42, '444': 42, '506': 42, '540': 42, '276': 41, '295': 41, '358': 41, '371': 41, '270': 40, '350': 40, '521': 40, '536': 40, '581': 40, '589': 40, '3': 39, '61': 39, '161': 39, '338': 39, '126': 38, '142': 38, '162': 38, '252': 38, '449': 38, '533': 38, '539': 38, '349': 37, '421': 37, '443': 37, '473': 37, '538': 37, '609': 37, '67': 36, '97': 36, '164': 36, '176': 36, '243': 36, '285': 36, '379': 36, '399': 36, '575': 36, '71': 35, '133': 35, '134': 35, '193': 35, '197': 35, '209': 35, '242': 35, '283': 35, '319': 35, '498': 35, '502': 35, '30': 34, '65': 34, '85': 34, '107': 34, '154': 34, '383': 34, '389': 34, '403': 34, '451': 34, '48': 33, '54': 33, '106': 33, '128': 33, '315': 33, '374': 33, '375': 33, '440': 33, '463': 33, '468': 33, '12': 32, '146': 32, '196': 32, '300': 32, '302': 32, '513': 32, '556': 32, '13': 31, '114': 31, '272': 31, '291': 31, '366': 31, '481': 31, '505': 31, '236': 30, '363': 30, '535': 30, '2': 29, '77': 29, '259': 29, '269': 29, '388': 29, '472': 29, '496': 29, '565': 29, '130': 28, '277': 28, '311': 28, '335': 28, '340': 28, '396': 28, '471': 28, '550': 28, '205': 27, '250': 27, '296': 27, '461': 27, '499': 27, '530': 27, '557': 27, '578': 27, '25': 26, '81': 26, '150': 26, '158': 26, '172': 26, '208': 26, '218': 26, '355': 26, '459': 26, '515': 26, '516': 26, '519': 26, '548': 26, '55': 25, '173': 25, '206': 25, '228': 25, '258': 25, '333': 25, '360': 25, '392': 25, '529': 25, '92': 24, '175': 24, '180': 24, '231': 24, '289': 24, '508': 24, '518': 24, '35': 23, '145': 23, '163': 23, '251': 23, '299': 23, '329': 23, '394': 23, '397': 23, '423': 23, '485': 23, '545': 23, '568': 23, '574': 23, '60': 22, '118': 22, '120': 22, '127': 22, '138': 22, '192': 22, '214': 22, '407': 22, '433': 22, '467': 22, '478': 22, '494': 22, '531': 22, '544': 22, '26': 21, '37': 21, '49': 21, '87': 21, '157': 21, '245': 21, '281': 21, '293': 21, '324': 21, '364': 21, '439': 21, '507': 21, '547': 21, '549': 21, '598': 21, '53': 20, '147': 20, '189': 20, '194': 20, '207': 20, '257': 20, '278': 20, '320': 20, '406': 20, '431': 20, '442': 20, '569': 20, '576': 20, '595': 20}\n",
            "10 loops, best of 5: 20.5 ms per loop\n"
          ]
        }
      ]
    },
    {
      "cell_type": "code",
      "source": [
        "print(ratings.top_by_ratings(5))\n",
        "%timeit(ratings.top_by_ratings(5))"
      ],
      "metadata": {
        "colab": {
          "base_uri": "https://localhost:8080/"
        },
        "id": "0NbFyrRj6o_4",
        "outputId": "7e547c8d-a97c-47c7-8d5d-26e212339e43"
      },
      "execution_count": 56,
      "outputs": [
        {
          "output_type": "stream",
          "name": "stdout",
          "text": [
            "{'The Jinx: The Life and Deaths of Robert Durst (2015)': 5.0, 'Galaxy of Terror (Quest) (1981)': 5.0, 'Alien Contamination (1980)': 5.0, \"I'm the One That I Want (2000)\": 5.0, 'Lesson Faust (1994)': 5.0}\n",
            "10 loops, best of 5: 65.4 ms per loop\n"
          ]
        }
      ]
    },
    {
      "cell_type": "code",
      "source": [
        "print(ratings.dist_by_rating())\n",
        "%timeit(ratings.dist_by_rating())"
      ],
      "metadata": {
        "colab": {
          "base_uri": "https://localhost:8080/"
        },
        "id": "6_-NvpP66o2p",
        "outputId": "762219e9-27f8-4160-8cf6-f40d0ce19249"
      },
      "execution_count": 57,
      "outputs": [
        {
          "output_type": "stream",
          "name": "stdout",
          "text": [
            "{0.5: 1370, 1.5: 1791, 1.0: 2811, 2.5: 5550, 2.0: 7551, 4.5: 8551, 3.5: 13136, 5.0: 13211, 3.0: 20047, 4.0: 26818}\n",
            "10 loops, best of 5: 25.6 ms per loop\n"
          ]
        }
      ]
    },
    {
      "cell_type": "code",
      "source": [
        "print(ratings.top_controversial(5))\n",
        "%timeit(ratings.top_controversial(5))"
      ],
      "metadata": {
        "colab": {
          "base_uri": "https://localhost:8080/"
        },
        "id": "QmrBryfU6opK",
        "outputId": "ce843893-9d61-4913-deca-efde422ba7ac"
      },
      "execution_count": 58,
      "outputs": [
        {
          "output_type": "stream",
          "name": "stdout",
          "text": [
            "{\"Ivan's Childhood (a.k.a. My Name is Ivan) (Ivanovo detstvo) (1962)\": 5.06, 'Fanny and Alexander (Fanny och Alexander) (1982)': 5.06, 'Troll 2 (1990)': 4.5, 'Lassie (1994)': 4.0, 'Zed & Two Noughts, A (1985)': 4.0}\n",
            "10 loops, best of 5: 156 ms per loop\n"
          ]
        }
      ]
    },
    {
      "cell_type": "code",
      "source": [
        "print(ratings.top_by_num_of_ratings(5))\n",
        "%timeit(ratings.top_by_num_of_ratings(5))"
      ],
      "metadata": {
        "colab": {
          "base_uri": "https://localhost:8080/"
        },
        "id": "J_WBrpRa7JQY",
        "outputId": "4a8c2600-cb31-4131-cbc8-c00a910d253c"
      },
      "execution_count": 59,
      "outputs": [
        {
          "output_type": "stream",
          "name": "stdout",
          "text": [
            "{'Forrest Gump (1994)': 329, 'Shawshank Redemption, The (1994)': 317, 'Pulp Fiction (1994)': 307, 'Silence of the Lambs, The (1991)': 279, 'Matrix, The (1999)': 278}\n",
            "10 loops, best of 5: 28.5 ms per loop\n"
          ]
        }
      ]
    }
  ]
}