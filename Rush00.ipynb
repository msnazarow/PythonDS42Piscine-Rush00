{
  "nbformat": 4,
  "nbformat_minor": 0,
  "metadata": {
    "colab": {
      "name": "Untitled1.ipynb",
      "provenance": [],
      "collapsed_sections": []
    },
    "kernelspec": {
      "name": "python3",
      "display_name": "Python 3"
    },
    "language_info": {
      "name": "python"
    }
  },
  "cells": [
    {
      "cell_type": "markdown",
      "source": [
        "#Отчет об Rush00\n"
      ],
      "metadata": {
        "id": "0HaDBxekva15"
      }
    },
    {
      "cell_type": "code",
      "source": [
        "import re\n",
        "from collections import Counter\n",
        "from enum import Enum\n",
        "import urllib\n",
        "import requests\n",
        "from bs4 import BeautifulSoup\n",
        "import ssl\n",
        "import timeit"
      ],
      "metadata": {
        "id": "bJ-c81Riv02C"
      },
      "execution_count": null,
      "outputs": []
    },
    {
      "cell_type": "code",
      "source": [
        "from google.colab import drive  # если вы выполняете код из среды Google Colab, нужно подключить свой гугл-диск,\n",
        "drive.mount('/content/drive')"
      ],
      "metadata": {
        "colab": {
          "base_uri": "https://localhost:8080/"
        },
        "id": "raXJlSrS9wp5",
        "outputId": "f14d78fa-7bcc-47a0-b45a-773fee9109c8"
      },
      "execution_count": null,
      "outputs": [
        {
          "output_type": "stream",
          "name": "stdout",
          "text": [
            "Drive already mounted at /content/drive; to attempt to forcibly remount, call drive.mount(\"/content/drive\", force_remount=True).\n"
          ]
        }
      ]
    },
    {
      "cell_type": "markdown",
      "source": [
        "Класс Links"
      ],
      "metadata": {
        "id": "Z0L4QKTa54Qy"
      }
    },
    {
      "cell_type": "code",
      "execution_count": 1,
      "metadata": {
        "id": "OKB0iq0XuM5g"
      },
      "outputs": [],
      "source": [
        "import re\n",
        "from collections import Counter\n",
        "from enum import Enum\n",
        "import urllib\n",
        "import requests\n",
        "from bs4 import BeautifulSoup\n",
        "from datetime import datetime\n",
        "import ssl\n",
        "\n",
        "class Links:\n",
        "\t\"\"\"\n",
        "\tAnalyzing data from links.csv\n",
        "\t\"\"\"\n",
        "\tdef __init__(self, path_to_the_file):\n",
        "\t\t\"\"\"\n",
        "\t\tPut here any fields that you think you will need.\n",
        "\t\t\"\"\"\n",
        "\t\tdata = []\n",
        "\t\t# проверка на открытие файла\n",
        "\t\twith open(path_to_the_file, 'r') as f:\n",
        "\t\t\tstr_data = (f.read().lower())\n",
        "\t\tdata = str_data.split('\\n')\n",
        "\t\tnext_data = []\n",
        "\t\tfor i in data[1:len(data) - 1]:\n",
        "\t\t\tdata = re.split(\",(?=(?:[^\\\"]*\\\"[^\\\"]*\\\")*[^\\\"]*$)\", i)\n",
        "\t\t\t# next_data.append(movieId, imdbId, tmdbId)\n",
        "\t\t\tnext_data.append(data)\n",
        "\t\t# print(next_data)\n",
        "\t\tself.data_file = next_data\n",
        "\t\tself.list_movies_data = []\n",
        "\t\tfor i in range(0, 10):\n",
        "\t\t\tssl._create_default_https_context = ssl._create_unverified_context\n",
        "\t\t\turl = f'https://www.imdb.com/title/tt{self.data_file[i][1]}/'\n",
        "\t\t\theaders = {'User-Agent': 'My User Agent 1.0',\n",
        "\t\t\t'From': f'https://www.imdb.com/title/tt{self.data_file[i][1]}/'\n",
        "\t\t\t}\n",
        "\t\t\tpage = urllib.request.urlopen(urllib.request.Request(url=url, headers=headers)).read()\n",
        "\t\t\tsoup = BeautifulSoup(page, 'lxml')\n",
        "\t\t\ttags = soup.find_all('li', role='presentation', class_='ipc-metadata-list__item')\n",
        "\t\t\tfor tag in tags:\n",
        "\t\t\t\tif (tag.text.find('Director') != -1):\n",
        "\t\t\t\t\tDirector = tag.text.replace('Director', '')\n",
        "\t\t\t\t\tbreak\n",
        "\t\t\tfor tag in tags:\n",
        "\t\t\t\tif (tag.text.find('Budget') != -1):\n",
        "\t\t\t\t\tBudget = tag.text.replace('Budget', '')\n",
        "\t\t\t\t\tbreak\n",
        "\t\t\tfor tag in tags:\n",
        "\t\t\t\tif (tag.text.find('Also known as') != -1):\n",
        "\t\t\t\t\tfilm = tag.text.replace('Also known as', '')\n",
        "\t\t\t\t\tbreak\n",
        "\t\t\tfor tag in tags:\n",
        "\t\t\t\tif (tag.text.find('Gross worldwide') != -1):\n",
        "\t\t\t\t\tGross = tag.text.replace('Gross worldwide', '')\n",
        "\t\t\t\t\tbreak\n",
        "\t\t\tfor tag in tags:\n",
        "\t\t\t\tif (tag.text.find('Runtime') != -1):\n",
        "\t\t\t\t\tRuntime = tag.text.replace('Runtime', '')\n",
        "\t\t\t\t\tbreak\n",
        "\t\t\tfield_data = [self.data_file[i][1], film, Director, Budget, Gross, Runtime]\n",
        "\t\t\tself.list_movies_data.append(field_data)\n",
        "\n",
        "\tdef get_imdb(list_of_movies, list_of_fields):\n",
        "\t\t\"\"\"\n",
        "\t\tThe method returns a list of lists [movieId, field1, field2, field3, ...] for the list of movies given as the argument (movieId).\n",
        "\t\tFor example, [movieId, Director, Budget, Cumulative Worldwide Gross, Runtime].\n",
        "\t\tThe values should be parsed from the IMDB webpages of the movies.\n",
        "\t\tSort it by movieId descendingly.\n",
        "\t\t\"\"\"\n",
        "\t\tlist_movies_data = []\n",
        "\t\tfor i in list_of_movies:\n",
        "\t\t\tssl._create_default_https_context = ssl._create_unverified_context\n",
        "\t\t\turl = f'https://www.imdb.com/title/tt{i}/'\n",
        "\t\t\theaders = {'User-Agent': 'My User Agent 1.0',\n",
        "\t\t\t'From': f'https://www.imdb.com/title/tt{i}/'\n",
        "\t\t\t}\n",
        "\t\t\tpage = urllib.request.urlopen(urllib.request.Request(url=url, headers=headers)).read()\n",
        "\t\t\tsoup = BeautifulSoup(page, 'lxml')\n",
        "\t\t\ttags = soup.find_all('li', role='presentation', class_='ipc-metadata-list__item')\n",
        "\t\t\tfield_data = [i]\n",
        "\t\t\tfor field in list_of_fields:\n",
        "\t\t\t\tfor tag in tags:\n",
        "\t\t\t\t\tif (tag.text.find(field) != -1):\n",
        "\t\t\t\t\t\tfield_value = tag.text.replace(field, '')\n",
        "\t\t\t\t\t\tbreak\n",
        "\t\t\t\tfield_data.append(field_value)\n",
        "\t\t\tlist_movies_data.append(field_data)\n",
        "\t\timdb_info = list(sorted(list_movies_data, key=lambda x: (-int(x[0]))))\n",
        "\t\treturn imdb_info\n",
        "\n",
        "\t\t\n",
        "\tdef top_directors(self, n):\n",
        "\t\t\"\"\"\n",
        "\t\tThe method returns a dict with top-n directors where the keys are directors and \n",
        "\t\tthe values are numbers of movies created by them. Sort it by numbers descendingly.\n",
        "\t\t\"\"\"\n",
        "\t\tlist_movies = []\n",
        "\t\tif (n > len(self.list_movies_data) and n <= 0):\n",
        "\t\t\tValueError('n > list')\n",
        "\t\tfor i in range(0, n):\n",
        "\t\t\tlist_movies.append([self.list_movies_data[i][2], self.list_movies_data[i][0]])\n",
        "\t\ta = sorted(list_movies)\n",
        "\t\tdirectors = dict()\n",
        "\t\tfor i in a:\n",
        "\t\t\tdirectors[i[0]] = i[1]\n",
        "\t\treturn directors\n",
        "\t\t\n",
        "\tdef most_expensive(self, n):\n",
        "\t\t\"\"\"\n",
        "\t\tThe method returns a dict with top-n movies where the keys are movie titles and\n",
        "\t\tthe values are their budgets. Sort it by budgets descendingly.\n",
        "\t\t\"\"\"\n",
        "\t\tlist_movies = []\n",
        "\t\tif (n > len(self.list_movies_data) and n <= 0):\n",
        "\t\t\tValueError('n > list')\n",
        "\t\tfor i in range(0, n):\n",
        "\t\t\tlist_movies.append([self.list_movies_data[i][1], self.list_movies_data[i][3]])\n",
        "\t\ta = sorted(list_movies)\n",
        "\t\tbudgets = dict()\n",
        "\t\tfor i in a:\n",
        "\t\t\tbudgets[i[0]] = i[1]\n",
        "\t\treturn budgets\n",
        "\t\t\n",
        "\tdef most_profitable(self, n):\n",
        "\t\t\"\"\"\n",
        "\t\tThe method returns a dict with top-n movies where the keys are movie titles and\n",
        "\t\tthe values are the difference between cumulative worldwide gross and budget.\n",
        "\t\tSort it by the difference descendingly.\n",
        "\t\t\"\"\"\n",
        "\t\tlist_movies = []\n",
        "\t\tif (n > len(self.list_movies_data) and n <= 0):\n",
        "\t\t\tValueError('n > list')\n",
        "\t\tfor i in range(0, n):\n",
        "\t\t\tgross = ''.join(x for x in self.list_movies_data[i][4] if x.isdigit())\n",
        "\t\t\tbudget = ''.join(x for x in self.list_movies_data[i][3] if x.isdigit())\n",
        "\t\t\tlist_movies.append([self.list_movies_data[i][1], int(gross) - int(budget)])\n",
        "\t\ta = sorted(list_movies, key = lambda x: -x[1])\n",
        "\t\tprofits = dict()\n",
        "\t\tfor i in a:\n",
        "\t\t\tprofits[i[0]] = i[1]\n",
        "\t\treturn profits\n",
        "\t\t\n",
        "\tdef longest(self, n):\n",
        "\t\t\"\"\"\n",
        "\t\tThe method returns a dict with top-n movies where the keys are movie titles and\n",
        "\t\tthe values are their runtime. If there are more than one version â€“ choose any.\n",
        "\t\tSort it by runtime descendingly.\n",
        "\t\t\"\"\"\n",
        "\t\tlist_movies = []\n",
        "\t\tif (n > len(self.list_movies_data) and n <= 0):\n",
        "\t\t\tValueError('n > list')\n",
        "\t\tfor i in range(0, n):\n",
        "\t\t\tRuntime_min = int(int(self.list_movies_data[i][5].split(' ')[0]) * 60) + int(self.list_movies_data[i][5].split(' ')[2])\n",
        "\t\t\tfield_data = [self.list_movies_data[i][1], self.list_movies_data[i][5], Runtime_min]\n",
        "\t\t\tlist_movies.append(field_data)\n",
        "\t\ta = sorted(list_movies, key = lambda x: -x[2])\n",
        "\t\truntimes = dict()\n",
        "\t\tfor i in a:\n",
        "\t\t\truntimes[i[0]] = i[1]\n",
        "\t\treturn runtimes\n",
        "\t\t\n",
        "\tdef top_cost_per_minute(self, n):\n",
        "\t\t\"\"\"\n",
        "\t\tThe method returns a dict with top-n movies where the keys are movie titles and\n",
        "\t\tthe values are the budgets divided by their runtime. The budgets can be in different currencies â€“ do not pay attention to it. \n",
        "\t\tThe values should be rounded to 2 decimals. Sort it by the division descendingly.\n",
        "\t\t\"\"\"\n",
        "\t\tlist_movies = []\n",
        "\t\tif (n > len(self.list_movies_data) and n <= 0):\n",
        "\t\t\tValueError('n > list')\n",
        "\t\tfor i in range(0, n):\n",
        "\t\t\tRuntime_min = int(int(self.list_movies_data[i][5].split(' ')[0]) * 60) + int(self.list_movies_data[i][5].split(' ')[2])\n",
        "\t\t\tbudget = ''.join(x for x in self.list_movies_data[i][3] if x.isdigit())\n",
        "\t\t\tfield_data = [self.list_movies_data[i][1], round(int(budget) / Runtime_min, 2)]\n",
        "\t\t\tlist_movies.append(field_data)\n",
        "\t\ta = sorted(list_movies, key = lambda x: -x[1])\n",
        "\t\tcosts = dict()\n",
        "\t\tfor i in a:\n",
        "\t\t\tcosts[i[0]] = i[1]\n",
        "\t\treturn costs"
      ]
    },
    {
      "cell_type": "markdown",
      "source": [
        "Проверка методов класса Links"
      ],
      "metadata": {
        "id": "3xxaXjo-5-dC"
      }
    },
    {
      "cell_type": "code",
      "source": [
        "link = Links(\"/content/drive/MyDrive/links.csv\")\n",
        "print(Links.get_imdb(['0114709'], ['Director', 'Budget', 'Gross worldwide', 'Runtime']))\n",
        "%timeit(Links.get_imdb(['0114709'], ['Director', 'Budget', 'Gross worldwide', 'Runtime']))\n"
      ],
      "metadata": {
        "colab": {
          "base_uri": "https://localhost:8080/",
          "height": 222
        },
        "id": "-8pphhej4I3p",
        "outputId": "1fc6ad4b-fd29-4900-f09e-eea231d3b1cb"
      },
      "execution_count": null,
      "outputs": [
        {
          "output_type": "error",
          "ename": "TypeError",
          "evalue": "ignored",
          "traceback": [
            "\u001b[0;31m---------------------------------------------------------------------------\u001b[0m",
            "\u001b[0;31mTypeError\u001b[0m                                 Traceback (most recent call last)",
            "\u001b[0;32m<ipython-input-11-37945b1de522>\u001b[0m in \u001b[0;36m<module>\u001b[0;34m()\u001b[0m\n\u001b[1;32m      1\u001b[0m \u001b[0mlink\u001b[0m \u001b[0;34m=\u001b[0m \u001b[0mLinks\u001b[0m\u001b[0;34m(\u001b[0m\u001b[0;34m\"/content/drive/MyDrive/links.csv\"\u001b[0m\u001b[0;34m)\u001b[0m\u001b[0;34m\u001b[0m\u001b[0;34m\u001b[0m\u001b[0m\n\u001b[0;32m----> 2\u001b[0;31m \u001b[0mlink\u001b[0m\u001b[0;34m.\u001b[0m\u001b[0mget_imdb\u001b[0m\u001b[0;34m(\u001b[0m\u001b[0;34m[\u001b[0m\u001b[0;34m'0114709'\u001b[0m\u001b[0;34m]\u001b[0m\u001b[0;34m,\u001b[0m \u001b[0;34m[\u001b[0m\u001b[0;34m'0114709'\u001b[0m\u001b[0;34m]\u001b[0m\u001b[0;34m)\u001b[0m\u001b[0;34m\u001b[0m\u001b[0;34m\u001b[0m\u001b[0m\n\u001b[0m\u001b[1;32m      3\u001b[0m \u001b[0mtimeit\u001b[0m\u001b[0;34m.\u001b[0m\u001b[0mtimeit\u001b[0m\u001b[0;34m(\u001b[0m\u001b[0mlink\u001b[0m\u001b[0;34m.\u001b[0m\u001b[0mget_imdb\u001b[0m\u001b[0;34m(\u001b[0m\u001b[0;34m[\u001b[0m\u001b[0;34m'0114709'\u001b[0m\u001b[0;34m]\u001b[0m\u001b[0;34m,\u001b[0m \u001b[0;34m[\u001b[0m\u001b[0;34m'0114709'\u001b[0m\u001b[0;34m]\u001b[0m\u001b[0;34m)\u001b[0m\u001b[0;34m)\u001b[0m\u001b[0;34m\u001b[0m\u001b[0;34m\u001b[0m\u001b[0m\n\u001b[1;32m      4\u001b[0m \u001b[0mn\u001b[0m \u001b[0;34m=\u001b[0m \u001b[0;36m10\u001b[0m\u001b[0;34m\u001b[0m\u001b[0;34m\u001b[0m\u001b[0m\n",
            "\u001b[0;31mTypeError\u001b[0m: get_imdb() takes 2 positional arguments but 3 were given"
          ]
        }
      ]
    },
    {
      "cell_type": "code",
      "source": [
        "n = 10\n",
        "print(link.top_directors(n))\n",
        "%timeit(link.top_directors(n))"
      ],
      "metadata": {
        "id": "6FjWkekR4I-B"
      },
      "execution_count": null,
      "outputs": []
    },
    {
      "cell_type": "code",
      "source": [
        "print(link.most_expensive(n))\n",
        "%timeit(link.most_expensive(n))"
      ],
      "metadata": {
        "id": "_HrUf_MP4JBw"
      },
      "execution_count": null,
      "outputs": []
    },
    {
      "cell_type": "code",
      "source": [
        "print(link.most_profitable(n))\n",
        "%timeit(link.most_profitable(n))"
      ],
      "metadata": {
        "id": "5NGYFknn4JJw"
      },
      "execution_count": null,
      "outputs": []
    },
    {
      "cell_type": "code",
      "source": [
        "print(link.longest(n))\n",
        "%timeit(link.longest(n))"
      ],
      "metadata": {
        "id": "3f0LJ2RR403B"
      },
      "execution_count": null,
      "outputs": []
    },
    {
      "cell_type": "code",
      "source": [
        "print(link.top_cost_per_minute(n))\n",
        "%timeit(link.top_cost_per_minute(n))"
      ],
      "metadata": {
        "id": "pvJVS5Zi5n_i"
      },
      "execution_count": null,
      "outputs": []
    },
    {
      "cell_type": "markdown",
      "source": [
        "Класс Tags"
      ],
      "metadata": {
        "id": "oVPfjmUE6EKY"
      }
    },
    {
      "cell_type": "code",
      "source": [
        "class Tags:\n",
        "\tdef __init__(self, path_to_the_file):\n",
        "\t\tdata = []\n",
        "\t\t# проверка на открытие файла\n",
        "\t\twith open(path_to_the_file, 'r') as f:\n",
        "\t\t\tstr_data = (f.read().lower())\n",
        "\t\tdata = str_data.split('\\n')\n",
        "\t\tnext_data = []\n",
        "\t\tfor i in data[1:len(data) - 1]:\n",
        "\t\t\tuserId, movieId, tag, timestamp = re.split(\",(?=(?:[^\\\"]*\\\"[^\\\"]*\\\")*[^\\\"]*$)\", i)\n",
        "\t\t\tnext_data.append(tag)\n",
        "\t\t# print(next_data)\n",
        "\t\tself.data_teg= next_data\n",
        "\t\t# tag = Counter(next_data)\n",
        "\t\t\n",
        "\t\n",
        "\tdef most_words(self, n):\n",
        "\t\t\"\"\"\n",
        "\t\tThe method returns top-n tags with most words inside. It is a dict \n",
        " \t\twhere the keys are tags and the values are the number of words inside the tag.\n",
        "\t\tDrop the duplicates. Sort it by numbers descendingly.\n",
        "        \"\"\"\n",
        "\t\tbig_tags = dict()\n",
        "\t\tif (len(self.data_teg) < n or n <= 0):\n",
        "\t\t\traise ValueError('n > count teg or n <= 0')\n",
        "\t\telse:\n",
        "\t\t\tno_sorted_tuple = dict(zip(self.data_teg, (map(lambda x: len(x.split(' ')), self.data_teg))))\n",
        "\t\t\tsorted_tuple = dict(sorted(no_sorted_tuple.items(), key=lambda x: -x[1]))\n",
        "\t\t\tcount = 0\n",
        "\t\t\tfor key, value in sorted_tuple.items():\n",
        "\t\t\t\tif (count != n):\n",
        "\t\t\t\t\tbig_tags[key] = value\n",
        "\t\t\t\t\tcount +=1\n",
        "\t\treturn big_tags\n",
        "\n",
        "\tdef longest(self, n):\n",
        "\t\t\"\"\"\n",
        "\t\tThe method returns top-n longest tags in terms of the number of characters.\n",
        "\t\tIt is a list of the tags. Drop the duplicates. Sort it by numbers descendingly.\n",
        "\t\t\"\"\"\n",
        "\t\tif (len(self.data_teg) < n or n <= 0):\n",
        "\t\t\traise ValueError('n > count teg or n <= 0')\n",
        "\t\telse:\n",
        "\t\t\tsorted_tuple = dict(zip(self.data_teg, (map(lambda x: len(x), self.data_teg))))\n",
        "\t\t\tbig_tags = dict(sorted(sorted_tuple.items(), key=lambda x: -x[1]))\n",
        "\t\t\tcount = 0\n",
        "\t\t\tfor key, value in sorted_tuple.items():\n",
        "\t\t\t\tif (count != n):\n",
        "\t\t\t\t\tbig_tags[key] = value\n",
        "\t\t\t\t\tcount +=1\n",
        "\t\treturn big_tags\n",
        "\n",
        "\tdef most_words_and_longest(self, n):\n",
        "\t\t\"\"\"\n",
        "\t\tThe method returns the intersection between top-n tags with most words inside and \n",
        "\t\ttop-n longest tags in terms of the number of characters.\n",
        "\t\tDrop the duplicates. It is a list of the tags.\n",
        "\t\t\"\"\"\n",
        "\n",
        "\t\treturn big_tags\n",
        "        \n",
        "\tdef most_popular(self, n):\n",
        "\t\t\"\"\"\n",
        "\t\tThe method returns the most popular tags. \n",
        "\t\tIt is a dict where the keys are tags and the values are the counts.\n",
        "\t\tDrop the duplicates. Sort it by counts descendingly.\n",
        "\t\t\"\"\"\n",
        "\t\tif (len(self.data_teg) < n or n <= 0):\n",
        "\t\t\traise ValueError('n > count teg or n <= 0')\n",
        "\t\telse:\n",
        "\t\t\tpopular_tags = Counter(self.data_teg).most_common(n)\n",
        "\t\treturn popular_tags\n",
        "        \n",
        "\tdef tags_with(self, word):\n",
        "\t\t\"\"\"\n",
        "\t\tThe method returns all unique tags that include the word given as the argument.\n",
        "\t\tDrop the duplicates. It is a list of the tags. Sort it by tag names alphabetically.\n",
        "\t\t\"\"\"\n",
        "\t\ttags_with_word = set(filter(lambda x: x.find(word) != -1, self.data_teg))\n",
        "\t\treturn tags_with_word"
      ],
      "metadata": {
        "id": "lUWXo3Auvuao"
      },
      "execution_count": null,
      "outputs": []
    },
    {
      "cell_type": "markdown",
      "source": [
        "Проверка методов класса Tags"
      ],
      "metadata": {
        "id": "ESZGTtTF6mqy"
      }
    },
    {
      "cell_type": "code",
      "source": [
        "tags = Tags(\"/content/drive/MyDrive/tags.csv\")\n",
        "print(tags.most_words(10))\n",
        "%timeit(tags.most_words(10))"
      ],
      "metadata": {
        "colab": {
          "base_uri": "https://localhost:8080/"
        },
        "id": "PKhWm6Nxvucw",
        "outputId": "7c959d2a-6370-4a89-b8ea-b154c26b2689"
      },
      "execution_count": null,
      "outputs": [
        {
          "output_type": "stream",
          "name": "stdout",
          "text": [
            "{'something for everyone in this one... saw it without and plan on seeing it with kids!': 16, 'the catholic church is the most corrupt organization in history': 10, 'villain nonexistent or not needed for good story': 8, '06 oscar nominated best movie - animation': 7, 'it was melodramatic and kind of dumb': 7, 'oscar (best music - original score)': 6, 'stop using useless characters for filler': 6, 'oscar (best effects - visual effects)': 6, 'everything you want is here': 5, 'based on a true story': 5}\n",
            "1000 loops, best of 5: 1.75 ms per loop\n"
          ]
        }
      ]
    },
    {
      "cell_type": "code",
      "source": [
        "print(tags.longest(10))\n",
        "%timeit(tags.most_words(10))"
      ],
      "metadata": {
        "colab": {
          "base_uri": "https://localhost:8080/"
        },
        "id": "S6SlEOd_3lUx",
        "outputId": "91f571bc-cba6-49c7-e9c5-509e2e359768"
      },
      "execution_count": null,
      "outputs": [
        {
          "output_type": "stream",
          "name": "stdout",
          "text": [
            "{'something for everyone in this one... saw it without and plan on seeing it with kids!': 85, 'the catholic church is the most corrupt organization in history': 63, 'villain nonexistent or not needed for good story': 48, 'r:disturbing violent content including rape': 43, '06 oscar nominated best movie - animation': 41, 'stop using useless characters for filler': 40, 'academy award (best supporting actress)': 39, 'oscar (best effects - visual effects)': 37, 'audience intelligence underestimated': 36, 'it was melodramatic and kind of dumb': 36, 'r:sustained strong stylized violence': 36, 'oscar (best music - original score)': 35, 'start of a beautiful friendship': 31, 'oscar (best supporting actress)': 31, 'assassin-in-training (scene)': 28, 'oscar (best cinematography)': 27, 'everything you want is here': 27, 'political right versus left': 27, 'avant-garde romantic comedy': 27, 'r:disturbing violent images': 27, 'representation of children': 26, 'not available from netflix': 26, 'rita hayworth can dance!': 24, 'stupid is as stupid does': 24, 'beautiful cinematography': 24, 'r:strong bloody violence': 24, 'setting:space/space ship': 24, 'guardians of the galaxy': 23, 'disney animated feature': 23, 'artificial intelligence': 23, 'coulda been a contender': 23, 'stop looking at me swan': 23, 'father-son relationship': 23, 'horrid characterisation': 23, 'intertwining storylines': 23, 'interesting characters': 22, 'multiple short stories': 22, 'amazing cinematography': 22, 'psychological thriller': 22, 'rogers and hammerstein': 22, 'james fennimore cooper': 22, 'salute to douglas sirk': 22, 'multiple personalities': 22, 'too much love interest': 22, 'pop culture references': 22, 'philip seymour hoffman': 22, 'heroine in tight suit': 21, 'sexy female scientist': 21, 'video game adaptation': 21, 'nudity (full frontal)': 21, 'arnold schwarzenegger': 21, 'based on a true story': 21, 'freedom of expression': 21, 'wrongful imprisonment': 21, 'empire state building': 21, 'nick and nora charles': 21, 'live action/animation': 21, 'sundance award winner': 21, 'cameo:whoopi goldberg': 21, 'first was much better': 21, 'poor plot development': 21, 'character development': 21, 'crime scene scrubbing': 21, 'interwoven storylines': 21, 'killer-as-protagonist': 21, 'francis ford coppola': 20, 'helena bonham carter': 20, 'engrossing adventure': 20, 'reciprocal spectator': 20, 'android(s)/cyborg(s)': 20, 'oscar (best actress)': 20, 'political commentary': 20, 'rich guy - poor girl': 20, 'may-december romance': 20, 'interracial marriage': 20, 'strangers on a train': 20, 'they might be giants': 20, 'give me back my son!': 20, 'needed more autobots': 20, 'small time criminals': 20, 'interesting scenario': 20, 'great cinematography': 20, 'philosophical issues': 20, 'meaningless violence': 20, 'exquisite plotting.': 19, 'fast-paced dialogue': 19, 'multiple storylines': 19, 'celebrity fetishism': 19, 'robots and androids': 19, 'seen more than once': 19, 'american propaganda': 19, 'mindless one liners': 19, 'interracial romance': 19, 'george bernard shaw': 19, 'ark of the covenant': 19, 'saturday night live': 19, 'shakespeare sort of': 19, 'simon and garfunkel': 19, 'a dingo ate my baby': 19, 'violence in america': 19, 'seann william scott': 19, 'movies about movies': 19, 'neil patrick harris': 19, 'too many characters': 19, 'lack of development': 19, 'fighting the system': 19, 'action choreography': 19, 'investor corruption': 19, 'good cinematography': 19, 'biblical references': 19, 'disjointed timeline': 19, 'non-linear timeline': 19, 'nonlinear narrative': 19, 'nonlinear storyline': 19, 'r:graphic sexuality': 19, 'indie record label': 18, 'visually appealing': 18, 'unnecessary sequel': 18, 'great performances': 18, \"harley quinn's ass\": 18, 'horrible directing': 18, 'jay and silent bob': 18, 'embarassing scenes': 18, 'computer animation': 18, 'narrative pisstake': 18, 'based on a tv show': 18, 'astaire and rogers': 18, 'tennessee williams': 18, 'andrew lloyd weber': 18, 'alternate universe': 18, 'robert penn warren': 18, 'weather forecaster': 18, 'm. night shyamalan': 18, 'alone in the world': 18, 'notable soundtrack': 18, 'intelligent sci-fi': 18, 'beautifully filmed': 18, 'seen at the cinema': 18, 'big boys with guns': 18, 'nonlinear timeline': 18, 'societal criticism': 18, 'leonardo dicaprio': 17, 'beautiful scenery': 17, 'christopher lloyd': 17, 'lord of the rings': 17, 'robert downey jr.': 17, 'conspiracy theory': 17, 'social commentary': 17, 'maggie gyllenhaal': 17, 'jennifer connelly': 17, 'justin timberlake': 17, 'quentin tarantino': 17, 'samuel l. jackson': 17, 'anti-intellectual': 17, 'visually stunning': 17, 'jennifer lawrence': 17, 'leonardo dicarpio': 17, 'building a family': 17, 'thought provoking': 17, 'alternate reality': 17, 'christopher nolan': 17, 'directorial debut': 17, 'thought-provoking': 17, 'a clever chef rat': 17, 'bechdel test:fail': 17, 'american idolatry': 17, 'louisa may alcott': 17, 'spaghetti western': 17, 'no dvd at netflix': 17, 'alternate endings': 17, 'claims to be true': 17, 'i see dead people': 17, 'hepburn and tracy': 17, 'backwards. memory': 17, 'domestic violence': 17, 'mountain climbing': 17, 'mccarthy hearings': 17, 'scifi masterpiece': 17, 'last man on earth': 17, 'teenage pregnancy': 17, 'purity of essence': 17, 'bubba gump shrimp': 17, 'denzel washington': 17, 'cliche characters': 17, 'visually striking': 17, 'beautiful visuals': 17, 'police corruption': 17, 'amazing dialogues': 17, 'entirely dialogue': 17, 'r:strong language': 17, 'royal with cheese': 17, 'superb soundtrack': 17, 'magic board game': 16, 'great soundtrack': 16, 'british gangster': 16, 'marion cotillard': 16, 'daniel radcliffe': 16, 'stupid but funny': 16, 'post-apocalyptic': 16, 'tension building': 16, 'post apocalyptic': 16, 'cruel characters': 16, 'fun family movie': 16, 'end of the world': 16, 'oldie but goodie': 16, 'childish naivity': 16, 'creature feature': 16, 'updated classics': 16, 'steven spielberg': 16, 'independent film': 16, 'alfred hitchcock': 16, 'in netflix queue': 16, 'michael crichton': 16, 'american indians': 16, 'native americans': 16, 'i am your father': 16, 'six-fingered man': 16, 'missing children': 16, 'nuclear disaster': 16, 'stones of summer': 16, 'ninotchka remake': 16, 'terminal illness': 16, 'lonesome polecat': 16, 'charlotte bronte': 16, 'free to download': 16, 'superficial plot': 16, 'big corporations': 16, 'financial crisis': 16, 'great screenplay': 16, 'predictible plot': 16, 'multiple stories': 16, 'arthur c. clarke': 16, 'confusing ending': 16, 'imaginary friend': 16, 'nudity (topless)': 16, 'heroic bloodshed': 16, 'highly quotable': 15, 'martin scorsese': 15, 'anthony hopkins': 15, 'courtroom drama': 15, 'dumpster diving': 15, 'romantic comedy': 15, 'christina ricci': 15, 'macaulay culkin': 15, 'organized crime': 15, 'charlize theron': 15, 'jesse eisenberg': 15, 'woody harrelson': 15, 'christoph waltz': 15, 'good soundtrack': 15, 'seth macfarlane': 15, 'viggo mortensen': 15, 'alicia vikander': 15, 'widows/widowers': 15, 'based on a book': 15, 'science fiction': 15, 'surprise ending': 15, 'renee zellweger': 15, 'black and white': 15, 'amazing artwork': 15, 'mediacentralism': 15, 'lesbian subtext': 15, 'space adventure': 15, 'special effects': 15, 'stanley kubrick': 15, 'brittany murphy': 15, 'mental hospital': 15, 'jake gyllenhaal': 15, 'powerful ending': 15, 'based on a play': 15, 'dark fairy tale': 15, 'overcomplicated': 15, 'jekyll and hyde': 15, 'hannibal lector': 15, 'the entertainer': 15, 'charles dickens': 15, 'virtual reality': 15, 'black-and-white': 15, 'plastic surgery': 15, 'stand-up comedy': 15, 'hannibal lecter': 15, 'agatha christie': 15, 'zooey deschanel': 15, 'captain america': 15, 'off-beat comedy': 15, 'confrontational': 15, 'quirky romantic': 15, 'character study': 15, 'horrible acting': 15, 'awkward romance': 15, 'natalie portman': 15, 'big name actors': 15, 'blood splatters': 15, 'casual violence': 15, 'organised crime': 15, 'r:some violence': 15, 'chuck palahniuk': 15, 'sustainability': 14, 'robin williams': 14, 'angelina jolie': 14, 'hayao miyazaki': 14, 'cate blanchett': 14, 'modern fantasy': 14, 'secret society': 14, 'dwayne johnson': 14, 'rachel mcadams': 14, 'classic sci-fi': 14, 'cinematography': 14, 'notable nudity': 14, 'music industry': 14, 'british comedy': 14, 'undercover cop': 14, 'christian bale': 14, 'morgan freeman': 14, 'jack nicholson': 14, 'juliette lewis': 14, 'robert de niro': 14, 'mental illness': 14, 'claustrophobic': 14, 'movie business': 14, 'luke skywalker': 14, 'cross dressing': 14, 'mount rushmore': 14, 'ballroom dance': 14, 'queen victoria': 14, 'general motors': 14, 'dance marathon': 14, 'figure skating': 14, 'pee wee herman': 14, \"eugene o'neill\": 14, 'music business': 14, 'day and hudson': 14, 'multiple roles': 14, 'philip k. dick': 14, 'self discovery': 14, 'george clooney': 14, 'john malkovich': 14, 'twists & turns': 14, 'nathan fillion': 14, 'graphic design': 14, 'lieutenant dan': 14, 'superhero team': 14, 'existentialism': 14, 'unconventional': 14, 'purposefulness': 14, 'achronological': 14, 'great dialogue': 14, 'julianne moore': 14, 'inspirational': 13, 'russell crowe': 13, 'mad scientist': 13, 'ensemble cast': 13, 'fantasy world': 13, 'studio ghibli': 13, 'david thewlis': 13, 'orlando bloom': 13, 'good dialogue': 13, 'audrey tautou': 13, 'treasure hunt': 13, 'emma thompson': 13, 'ryan reynolds': 13, 'tilda swinton': 13, 'anne hathaway': 13, 'new york city': 13, 'unintelligent': 13, 'short stories': 13, 'great villain': 13, 'margot robbie': 13, 'individualism': 13, 'emilia clarke': 13, 'kevin costner': 13, 'controversial': 13, 'sofia coppola': 13, 'ewan mcgregor': 13, 'robert ludlum': 13, 'hallucinatory': 13, 'psychological': 13, 'coen brothers': 13, 'system holism': 13, 'city politics': 13, 'remix culture': 13, 'casey affleck': 13, 'assassination': 13, 'mark wahlberg': 13, 'steve buscemi': 13, 'edward norton': 13, 'indiana jones': 13, 'serial killer': 13, 'schizophrenia': 13, 'stupid ending': 13, 'death penalty': 13, 'edith wharton': 13, 'show business': 13, 'mrs. dewinter': 13, 'anti-semitism': 13, 'inigo montoya': 13, 'e. m. forster': 13, 'personals ads': 13, 'arthur miller': 13, 'lloyd dobbler': 13, 'south america': 13, 'evil children': 13, 'ichabod crane': 13, 'graham greene': 13, 'televangelist': 13, 'rolling stone': 13, 'stephen crane': 13, 'vertriloquism': 13, 'good and evil': 13, 'marx brothers': 13, 'space station': 13, 'howard hughes': 13, 'truman capote': 13, 'james stewart': 13, 'harrison ford': 13, 'original plot': 13, 'jesse ventura': 13, 'crappy sequel': 13, 'disappointing': 13, 'paul giamatti': 13, 'costume drama': 13, 'colin farrell': 13, 'ralph fiennes': 13, 'jaime pressly': 13, 'lack of story': 13, 'james cameron': 13, 'poor dialogue': 13, 'philosophical': 13, 'heartbreaking': 13, 'introspection': 13, 'great visuals': 13, 'unlikely hero': 13, 'contemplative': 13, 'uncomfortable': 13, 'wesley snipes': 13, 'action packed': 13, 'classic movie': 13, 'drug overdose': 13, 'drugs & music': 13, 'foul language': 13, 'harvey keitel': 13, 'homosexuality': 13, 'john travolta': 13, 'smart writing': 13, 'sophisticated': 13, 'unpredictable': 13, 'revolutionary': 13, 'david fincher': 13, 'will ferrell': 12, 'boxing story': 12, 'way too long': 12, 'twist ending': 12, 'black comedy': 12, 'ancient rome': 12, 'imdb top 250': 12, 'rachel weisz': 12, 'world war ii': 12, 'hilary swank': 12, 'captain nemo': 12, 'sean connery': 12, 'steve carell': 12, 'meryl streep': 12, 'adam sandler': 12, 'daniel craig': 12, 'jessica alba': 12, 'james franco': 12, 'stoner movie': 12, 'adrien brody': 12, 'mark ruffalo': 12, 'happy ending': 12, 'keanu reeves': 12, 'kurt russell': 12, 'ben kingsley': 12, 'harley quinn': 12, 'lack of plot': 12, 'poorly paced': 12, 'good writing': 12, 'space action': 12, 'great ending': 12, 'sexual humor': 12, 'hugh jackman': 12, 'alan rickman': 12, 'harry potter': 12, 'henry darger': 12, 'jeff bridges': 12, 'film history': 12, 'post-college': 12, 'transvestite': 12, 'bruce willis': 12, 'monty python': 12, 'space travel': 12, 'nicolas cage': 12, 'martial arts': 12, 'winona ryder': 12, 'stephen king': 12, 'high fantasy': 12, 'metaphorical': 12, 'human rights': 12, 'animal movie': 12, 'south africa': 12, 'prostitution': 12, 'generation x': 12, 'john grisham': 12, 'veterinarian': 12, 'swashbuckler': 12, 'jim morrison': 12, 'brainwashing': 12, 'ferris wheel': 12, 'norman bates': 12, 'mockumentary': 12, 'captain kirk': 12, 'ray bradbury': 12, 'in your eyes': 12, 'andy kaufman': 12, 'e.m. forster': 12, 'pearl s buck': 12, 'psychiatrist': 12, 'invisibility': 12, 'loretta lynn': 12, 'big brothers': 12, 'spelling bee': 12, 'thanksgiving': 12, 'cattle drive': 12, 'photographer': 12, 'george lucas': 12, 'michael cera': 12, '2d animation': 12, 'andy samberg': 12, 'new composer': 12, 'shia labeouf': 12, 'slim pickens': 12, 'intellectual': 12, 'kevin spacey': 12, 'stock market': 12, 'heartwarming': 12, 'motivational': 12, 'mind-bending': 12, 'philosopical': 12, 'bad dialogue': 12, 'best picture': 12, 'great acting': 12, 'lolita theme': 12, 'bad language': 12, 'black humour': 12, 'conversation': 12, 'cult classic': 12, 'entertaining': 12, 'golden watch': 12, 'motherfucker': 12, 'out of order': 12, 'storytelling': 12, 'john goodman': 12, 'mind-blowing': 12, 'time-travel': 11, 'sword fight': 11, 'dark comedy': 11, 'andy garcia': 11, 'atmospheric': 11, 'peta wilson': 11, 'liam neeson': 11, 'chris evans': 11, 'johnny depp': 11, 'ben stiller': 11, 'chick flick': 11, 'con artists': 11, 'bill murray': 11, 'hot actress': 11, 'predictable': 11, 'bad writing': 11, 'new society': 11, 'unexplained': 11, 'dr. strange': 11, 'immortality': 11, 'ben affleck': 11, 'wonderwoman': 11, 'gun tactics': 11, 'interesting': 11, 'josh brolin': 11, 'kevin smith': 11, 'time travel': 11, 'crude humor': 11, 'john cusack': 11, 'jackie chan': 11, 'sentimental': 11, 'ummarti2006': 11, 'high school': 11, 'mathematics': 11, 'documentary': 11, 'shakespeare': 11, 'bittersweet': 11, 'bette davis': 11, 'afghanistan': 11, 'psychedelic': 11, 'nuclear war': 11, 'archaeology': 11, 'space craft': 11, 'suspenseful': 11, 'masterpiece': 11, 'adult humor': 11, 'free speech': 11, 'trey parker': 11, 'david bowie': 11, 'jane austen': 11, 'made me cry': 11, 'infertility': 11, 'darth vader': 11, 'space opera': 11, 'men in drag': 11, 'housekeeper': 11, 'beat poetry': 11, 'adolescence': 11, 'atomic bomb': 11, 'king arthur': 11, 'middle east': 11, 'heavy metal': 11, 'transplants': 11, 'henry james': 11, 'katzanzakis': 11, 's.e. hinton': 11, 'small towns': 11, 'southern us': 11, 'crucifixion': 11, 'nick hornby': 11, 'psychopaths': 11, 'fairy tales': 11, 'oscar wilde': 11, 'younger men': 11, 'photography': 11, 'world war i': 11, 'short films': 11, 'child abuse': 11, 'dodie smith': 11, 'immigration': 11, 'scott turow': 11, 'real estate': 11, 'independent': 11, 'anne boleyn': 11, 'cole porter': 11, 'johnny cash': 11, 'michael bay': 11, 'best comedy': 11, 'chris klein': 11, 'jason biggs': 11, 'imagination': 11, 'no dialogue': 11, 'halle berry': 11, 'faerie tale': 11, 'far fetched': 11, 'shenanigans': 11, 'joss whedon': 11, 'jason segel': 11, 'masculinity': 11, 'intelligent': 11, 'bad science': 11, 'white guilt': 11, 'video games': 11, 'male nudity': 11, 'deep throat': 11, 'dan aykroyd': 11, 'memory loss': 11, 'complicated': 11, 'wall street': 11, 'slow action': 11, 'tear jerker': 11, 'tearjerking': 11, 'melancholic': 11, '\"\"\"artsy\"\"\"': 11, 'great humor': 11, 'imaginative': 11, 'understated': 11, 'existential': 11, 'allegorical': 11, 'great movie': 11, 'gary oldman': 11, 'black humor': 11, 'los angeles': 11, 'roger avary': 11, 'uma thurman': 11, 'challenging': 11, 'consumerism': 11, 'double life': 11, 'true story': 10, 'black hole': 10, 'historical': 10, 'mel gibson': 10, 'comic book': 10, 'jim carrey': 10, 'tim burton': 10, 'corruption': 10, 'bad acting': 10, 'bad script': 10, 'will smith': 10, 'seth rogen': 10, 'teen movie': 10, 'emma stone': 10, 'mila kunis': 10, 'soundtrack': 10, 'plot holes': 10, 'dark humor': 10, 'characters': 10, 'love story': 10, 'revolution': 10, 'jared leto': 10, 'poor story': 10, 'non-linear': 10, 'irreverent': 10, 'goretastic': 10, 'disturbing': 10, 'r language': 10, 'very funny': 10, 'not linear': 10, 'psychology': 10, 'space epic': 10, 'depressing': 10, 'friendship': 10, 'matt damon': 10, 'highschool': 10, 'wapendrama': 10, 'restaurant': 10, 'apocalypse': 10, 'kidnapping': 10, 'plot twist': 10, 'south park': 10, 'scifi cult': 10, 'rob zombie': 10, 'modern war': 10, 'claymation': 10, 'procedural': 10, 'alcoholism': 10, 'journalism': 10, 'basketball': 10, 'girl power': 10, 'disability': 10, 'enterprise': 10, 'tom clancy': 10, 'c.s. lewis': 10, 'large cast': 10, 'bugs bunny': 10, 'drug abuse': 10, 'television': 10, 'shangri-la': 10, 'missionary': 10, 'harper lee': 10, 'holy grail': 10, 'conspiracy': 10, 'california': 10, 'motherhood': 10, 'lawn mower': 10, 'depression': 10, 'fatherhood': 10, 'peace corp': 10, 'reality tv': 10, 'singletons': 10, 'immigrants': 10, 'tradition!': 10, 'sisterhood': 10, 'lou gehrig': 10, 'matchmaker': 10, 'parenthood': 10, 'roald dahl': 10, 'pizza beer': 10, 'creativity': 10, 'big budget': 10, 'fairy tale': 10, 'quick cuts': 10, 'simon pegg': 10, 'ridiculous': 10, 'futuristic': 10, 'unoriginal': 10, 'philosophy': 10, 'long shots': 10, 'reflective': 10, 'melancholy': 10, 'loneliness': 10, 'long takes': 10, 'meditative': 10, 'happpiness': 10, 'insightful': 10, 'surrealism': 10, 'fatalistic': 10, 'unsettling': 10, 'really bad': 10, 'luc besson': 10, 'aggressive': 10, 'cool style': 10, 'fast paced': 10, 'fast-paced': 10, 'good music': 10, 'innovative': 10, \"palme d'or\": 10, 'r:violence': 10, 'slow paced': 10, 'spacecraft': 10, 'technology': 10, 'postmodern': 10, 'tom hardy': 9, 'al pacino': 9, 'holocaust': 9, 'animation': 9, 'tom hanks': 9, 'ed harris': 9, 'eric bana': 9, 'superhero': 9, 'adventure': 9, 'hilarious': 9, 'cyberpunk': 9, 'confusing': 9, 'eva green': 9, 'brad pitt': 9, 'bad jokes': 9, 'overrated': 9, 'dc comics': 9, 'amy adams': 9, 'zoe kazan': 9, 'weak plot': 9, 'dark hero': 9, 'rebellion': 9, 'bad story': 9, 'gal gadot': 9, 'star wars': 9, 'stone age': 9, 'brutality': 9, 'threesome': 9, 'offensive': 9, 'jean reno': 9, 'espionage': 9, 'feel-good': 9, 'nonlinear': 9, 'cult film': 9, 'dreamlike': 9, 'boksdrama': 9, 'paul rudd': 9, 'terrorism': 9, 'addiction': 9, 'tarantino': 9, 'emotional': 9, 'obsession': 9, 'mythology': 9, 'alter ego': 9, 'illusions': 9, 'absorbing': 9, 'uplifting': 9, 'pregnancy': 9, 'president': 9, 'hollywood': 9, 'submarine': 9, 'computers': 9, 'australia': 9, 'beethoven': 9, 'christmas': 9, 'hula hoop': 9, 'sexuality': 9, 'halloween': 9, 'voyeurism': 9, 'screwball': 9, 'civil war': 9, 'hemingway': 9, 'governess': 9, 'gangsters': 9, 'clousseau': 9, 'dinosaurs': 9, 'shipwreck': 9, 'huey long': 9, 'workplace': 9, 'the force': 9, 'star trek': 9, 'nostalgia': 9, 'indonesia': 9, 'nightclub': 9, 'up series': 9, 'dust bowl': 9, 'insurance': 9, 'prejudice': 9, 'evolution': 9, 'peter pan': 9, 'blindness': 9, 'dr. seuss': 9, 'bluegrass': 9, 'virginity': 9, 'von bulow': 9, 'prodigies': 9, 'whimsical': 9, 'teenagers': 9, 'jean grey': 9, 'wolverine': 9, 'road trip': 9, 'watergate': 9, 'mcdonalds': 9, 'not funny': 9, 'well done': 9, 'coen bros': 9, 'bromantic': 9, '2001-like': 9, 'franchise': 9, 'inspiring': 9, 'bad humor': 9, 'enjoyable': 9, 'biography': 9, 'las vegas': 9, 'dead wife': 9, 'economics': 9, 'realistic': 9, 'thrilling': 9, 'enigmatic': 9, 'beautiful': 9, 'easygoing': 9, 'art house': 9, 'fucked up': 9, 'nocturnal': 9, 'symbolism': 9, 'colourful': 9, 'eccentric': 9, 'nightmare': 9, 'brilliant': 9, 'bad music': 9, 'assassins': 9, 'anthology': 9, 'different': 9, 'film noir': 9, 'film-noir': 9, 'milkshake': 9, 'monologue': 9, 'marijuana': 9, 'satirical': 9, 'palahnuik': 9, 'for katie': 9, 'gangster': 8, 'medieval': 8, 'original': 8, 'jude law': 8, 'stylized': 8, 'bad plot': 8, 'istanbul': 8, 'dystopia': 8, 'survival': 8, 'thriller': 8, 'bromance': 8, 'dialogue': 8, 'nonsense': 8, 'politics': 8, 'superman': 8, 'creative': 8, 'jon hamm': 8, 'violence': 8, 'mindfuck': 8, 'suspense': 8, 'assassin': 8, 'test tag': 8, 'humorous': 8, 'insomnia': 8, 'remaster': 8, 'big wave': 8, 'narrated': 8, 'children': 8, 'quotable': 8, 'military': 8, 'paranoid': 8, 'paranoia': 8, 'insanity': 8, 'stranded': 8, 'morality': 8, 'too long': 8, 'annoying': 8, 'cambodia': 8, 'adoption': 8, 'scotland': 8, 'einstein': 8, 'marriage': 8, 'weddings': 8, 'gambling': 8, 'dinosaur': 8, 'football': 8, 'gulf war': 8, 'alcatraz': 8, 'disaster': 8, 'adultery': 8, 'cold war': 8, 'homeless': 8, 'fugitive': 8, 'religion': 8, 'new york': 8, 'gunfight': 8, 'baseball': 8, 'vampires': 8, 'klingons': 8, 'savannah': 8, 'olympics': 8, 'michigan': 8, 'suburbia': 8, 'carnival': 8, 'aquarium': 8, 'broadway': 8, 'aviation': 8, 'brothers': 8, 'families': 8, 'business': 8, 'diabetes': 8, 'preacher': 8, 'accident': 8, 'as byatt': 8, 'teachers': 8, 'werewolf': 8, 'truckers': 8, 'van gogh': 8, 'deafness': 8, 'stand up': 8, 'abortion': 8, 'genocide': 8, 'busniess': 8, 'androids': 8, 'neo-noir': 8, 'anti-war': 8, 'solitude': 8, 'artistic': 8, 'cheating': 8, 'touching': 8, 'cerebral': 8, 'menacing': 8, 'poignant': 8, 'downbeat': 8, 'gruesome': 8, 'intimate': 8, 'romantic': 8, 'haunting': 8, 'inhumane': 8, 'arthouse': 8, 'symbolic': 8, 'abstract': 8, 'colorful': 8, 'adorable': 8, 'not seen': 8, 'episodic': 8, 'exciting': 8, 'mobsters': 8, 'splatter': 8, 'travolta': 8, 'computer': 8, 'relaxing': 8, 'fighting': 8, 'britpop': 7, 'wedding': 7, 'painter': 7, 'fantasy': 7, 'revenge': 7, 'classic': 7, 'history': 7, 'violent': 7, 'tolkien': 7, 'stylish': 7, 'mystery': 7, 'romance': 7, 'surreal': 7, 'justice': 7, 'western': 7, 'freedom': 7, 'sarcasm': 7, 'kung fu': 7, 'gintama': 7, 'surfing': 7, 'zombies': 7, 'favelas': 7, 'cartoon': 7, 'divorce': 7, 'awesome': 7, 'knights': 7, 'stiller': 7, 'sisters': 7, 'cynical': 7, 'secrets': 7, 'wizards': 7, 'samurai': 7, 'lesbian': 7, 'teacher': 7, 'england': 7, 'writing': 7, 'theater': 7, 'muppets': 7, 'ireland': 7, 'hit men': 7, 'vietnam': 7, 'aardman': 7, 'falling': 7, 'royalty': 7, 'dorothy': 7, 'rosebud': 7, 'amnesia': 7, 'leopard': 7, 'salieri': 7, 'hammett': 7, 'slasher': 7, 'hawkeye': 7, 'tolstoy': 7, 'reunion': 7, 'lawyers': 7, 'judaism': 7, 'dickens': 7, 'mermaid': 7, 'tolkein': 7, 'doctors': 7, 'hungary': 7, 'stapler': 7, 'golfing': 7, 'prequel': 7, 'spiders': 7, 'slavery': 7, 'beatles': 7, 'tobacco': 7, 'big top': 7, 'orphans': 7, 'scandal': 7, 'college': 7, 'factory': 7, 'suicide': 7, 'pageant': 7, 'quakers': 7, 'nabokov': 7, 'hippies': 7, 'singers': 7, 'pudding': 7, 'titanic': 7, 'magneto': 7, 'othello': 7, 'con men': 7, 'vampire': 7, 'macbeth': 7, 'convent': 7, 'doc ock': 7, 'mirrors': 7, 'parrots': 7, 'hip hop': 7, 'firefly': 7, 'passion': 7, 'robbery': 7, 'hostage': 7, 'earnest': 7, 'oninous': 7, 'elegiac': 7, 'lyrical': 7, 'cryptic': 7, 'strange': 7, 'elegant': 7, 'longing': 7, 'awkward': 7, 'wistful': 7, 'tragedy': 7, 'bizarre': 7, 'twisted': 7, 'intense': 7, 'bizzare': 7, 'tension': 7, 'amazing': 7, 'bad ass': 7, 'bad-ass': 7, 'dancing': 7, 'mobster': 7, 'unusual': 7, 'tedious': 7, 'bowling': 7, 'deadpan': 7, 'british': 7, 'austere': 7, 'bloody': 6, 'sci-fi': 6, 'family': 6, 'gothic': 6, 'quirky': 6, 'sequel': 6, 'disney': 6, 'sniper': 6, 'marvel': 6, 'scenic': 6, 'matrix': 6, 'clever': 6, 'africa': 6, 'narnia': 6, 'comedy': 6, 'boring': 6, 'cheesy': 6, 'turkey': 6, 'action': 6, 'humour': 6, 'gun-fu': 6, 'ironic': 6, 'thanos': 6, 'ethics': 6, 'batman': 6, 'hitman': 6, 'future': 6, 'killer': 6, 'robots': 6, 'murder': 6, 'police': 6, 'satire': 6, 'brutal': 6, 'vulgar': 6, 'memory': 6, 'moving': 6, 'stupid': 6, 'dreams': 6, 'poetic': 6, 'ghosts': 6, 'ending': 6, 'tricky': 6, 'heroin': 6, 'aliens': 6, 'horror': 6, 'creepy': 6, 'parody': 6, 'asylum': 6, 'acting': 6, 'remake': 6, 'dating': 6, 'school': 6, 'france': 6, 'prison': 6, 'remade': 6, 'shrimp': 6, 'horses': 6, 'biopic': 6, 'butler': 6, 'racism': 6, 'priest': 6, 'babies': 6, 'capote': 6, 'brooch': 6, 'statue': 6, 'movies': 6, 'europe': 6, 'russia': 6, 'boxing': 6, 'venice': 6, 'zither': 6, 'mozart': 6, 'incest': 6, 'skiing': 6, 'lawyer': 6, 'demons': 6, 'ex-con': 6, 'whales': 6, 'sports': 6, 'spying': 6, 'jungle': 6, 'canada': 6, 'autism': 6, 'rasicm': 6, 'mexico': 6, 'boston': 6, 'capone': 6, 'freaks': 6, 'e-mail': 6, 'island': 6, 'circus': 6, 'subway': 6, 'mining': 6, 'ballet': 6, 'planes': 6, 'soccer': 6, 'trains': 6, 'cancer': 6, 'biking': 6, 'amtrak': 6, 'prince': 6, 'hearst': 6, 'donkey': 6, 'saints': 6, 'camels': 6, 'morrow': 6, 'comics': 6, 'unique': 6, 'casino': 6, 'simple': 6, 'gritty': 6, 'chilly': 6, 'gentle': 6, 'insane': 6, 'somber': 6, 'dreamy': 6, 'tragic': 6, 'humane': 6, 'lovely': 6, 'trippy': 6, 'cheeky': 6, 'sinbad': 6, 'french': 6, 'genius': 6, 'iconic': 6, 'random': 6, 'visual': 6, 'ransom': 6, 'romans': 6, 'gun fu': 6, 'funny': 5, 'drugs': 5, 'mafia': 5, 'music': 5, 'pixar': 5, 'anime': 5, 'sweet': 5, 'witty': 5, 'paris': 5, 'space': 5, 'scifi': 5, 'humor': 5, 'joker': 5, 'magic': 5, 'mecha': 5, 'india': 5, 'moldy': 5, 'italy': 5, 'twist': 5, 'tense': 5, 'goofy': 5, 'scary': 5, 'crime': 5, 'twins': 5, 'heist': 5, 'court': 5, 'death': 5, 'spies': 5, 'japan': 5, 'radio': 5, 'chess': 5, 'spoof': 5, '1900s': 5, 'nanny': 5, 'bible': 5, '1920s': 5, 'dance': 5, '1960s': 5, '1950s': 5, 'aging': 5, 'nazis': 5, 'birds': 5, 'shark': 5, 'conan': 5, '1970s': 5, 'amish': 5, '1980s': 5, 'ships': 5, 'gangs': 5, 'china': 5, 'jason': 5, 'train': 5, 'moses': 5, 'video': 5, 'river': 5, 'class': 5, 'blind': 5, 'rabbi': 5, 'union': 5, 'ghost': 5, 'dumas': 5, 'books': 5, 'women': 5, 'bombs': 5, 'chile': 5, 'lions': 5, 'rogue': 5, 'retro': 5, 'tokyo': 5, 'flood': 5, 'saint': 5, 'opera': 5, 'grace': 5, 'clock': 5, 'ogres': 5, 'stage': 5, 'money': 5, 'bears': 5, 'drama': 5, 'eerie': 5, 'macho': 5, 'nerds': 5, 'weird': 5, 'recap': 5, 'geeky': 5, 'smart': 5, 'hotel': 5, 'truth': 5, 'silly': 5, 'ocean': 5, 'artsy': 5, 'crazy': 5, 'moody': 5, 'anger': 5, 'bleak': 5, 'harsh': 5, 'slick': 5, '1990s': 5, 'blood': 5, 'diner': 5, 'irony': 5, 'epic': 4, 'rome': 4, 'dogs': 4, 'dark': 4, 'lion': 4, 'thor': 4, 'nerd': 4, 'kids': 4, \"80's\": 4, 'hope': 4, 'cult': 4, 'ptsd': 4, 'myth': 4, 'game': 4, 'pigs': 4, 'emma': 4, 'golf': 4, 'moon': 4, 'nasa': 4, 'coma': 4, 'aids': 4, 'race': 4, 'toto': 4, 'food': 4, 'fish': 4, 'navy': 4, 'cold': 4, 'prom': 4, 'borg': 4, 'mice': 4, 'siam': 4, 'camp': 4, 'l.a.': 4, 'nuns': 4, 'toga': 4, 'pool': 4, 'rape': 4, 'jazz': 4, 'doll': 4, 'deaf': 4, 'wine': 4, 'gold': 4, 'dumb': 4, 'teen': 4, 'guns': 4, 'love': 4, 'lies': 4, 'bank': 4, 'grim': 4, 'good': 4, 'coke': 4, 'cool': 4, 'gore': 4, 'noir': 4, 'pulp': 4, 'sexy': 4, 'apes': 4, 'dull': 4, 'slow': 4, '70mm': 4, 'mma': 3, 'cgi': 3, 'sex': 3, 'mcu': 3, 'old': 3, 'snl': 3, 'nun': 3, 'bus': 3, 'hal': 3, 'war': 3, 'oil': 3, 'pow': 3, 'art': 3, 'fbi': 3, 'rap': 3, 'bad': 3, 'sad': 3, 'cia': 3, 'fun': 3, 'wry': 3, 'rug': 3, 'dc': 2, 'tv': 2}\n",
            "1000 loops, best of 5: 1.77 ms per loop\n"
          ]
        }
      ]
    },
    {
      "cell_type": "code",
      "source": [
        "print(tags.most_words_and_longest(10))\n",
        "%timeit(tags.most_words(10))"
      ],
      "metadata": {
        "id": "Gsm3rvz_vufo"
      },
      "execution_count": null,
      "outputs": []
    },
    {
      "cell_type": "code",
      "source": [
        "print(tags.most_popular(10))\n",
        "%timeit(tags.most_popular(10))"
      ],
      "metadata": {
        "id": "5UqzINtm3xSA"
      },
      "execution_count": null,
      "outputs": []
    },
    {
      "cell_type": "code",
      "source": [
        "print(tags.tags_with('a'))\n",
        "%timeit(tags.tags_with('a'))"
      ],
      "metadata": {
        "id": "kDRCrMrt39Nh"
      },
      "execution_count": null,
      "outputs": []
    },
    {
      "cell_type": "markdown",
      "source": [
        "Класс Movie"
      ],
      "metadata": {
        "id": "gY-Y8mQy7kwJ"
      }
    },
    {
      "cell_type": "code",
      "source": [
        "import re\n",
        "from collections import Counter\n",
        "from enum import Enum\n",
        "from functools import reduce\n",
        "from typing import List\n",
        "\n",
        "\n",
        "class Movie:\n",
        "    def __init__(self, id, title, genres):\n",
        "        self.id = id\n",
        "        self.title = title\n",
        "        try:\n",
        "            self.year = int(re.sub('.*\\(([0-9]{4})\\).*', r'\\1', title))\n",
        "        except:\n",
        "            self.year = 2000\n",
        "        self.genres = genres.split('|')\n",
        "\n",
        "class Movies:\n",
        "    \"\"\"\n",
        "    Analyzing data from movies.csv\n",
        "    \"\"\"\n",
        "\n",
        "    def __init__(self, path_to_the_file):\n",
        "        \"\"\"\n",
        "        Put here any fields that you think you will need.\n",
        "        \"\"\"\n",
        "        with open(path_to_the_file) as file:\n",
        "            self.movies: List[Movie] = []\n",
        "            next(file)\n",
        "            for line in file:\n",
        "                movieId, title, genres = re.split(\",(?=(?:[^\\\"]*\\\"[^\\\"]*\\\")*[^\\\"]*$)\", line.strip())\n",
        "                self.movies.append(Movie(movieId, title, genres))\n",
        "\n",
        "    def dist_by_release(self):\n",
        "        \"\"\"\n",
        "        The method returns a dict or an OrderedDict where the keys are years and the values are counts. \n",
        "        You need to extract years from the titles. Sort it by counts descendingly.\n",
        "        \"\"\"\n",
        "        return dict(Counter(map(lambda x: x.year, self.movies)))\n",
        "\n",
        "    def dist_by_genres(self):\n",
        "        \"\"\"\n",
        "        The method returns a dict where the keys are genres and the values are counts.\n",
        "    Sort it by counts descendingly.\n",
        "        \"\"\"\n",
        "        return dict(Counter(reduce(lambda a, b: a + b, map(lambda x: x.genres, self.movies))))\n",
        "\n",
        "    def most_genres(self, n):\n",
        "        \"\"\"\n",
        "        The method returns a dict with top-n movies where the keys are movie titles and \n",
        "        the values are the number of genres of the movie. Sort it by numbers descendingly.\n",
        "        \"\"\"\n",
        "        # return movies"
      ],
      "metadata": {
        "id": "Tw2QPkx57lUI"
      },
      "execution_count": null,
      "outputs": []
    },
    {
      "cell_type": "code",
      "source": [
        "movies = Movies(\"/content/drive/MyDrive/movies.csv\")\n",
        "print(movies.dist_by_genres())\n",
        "%timeit(movies.dist_by_genres())"
      ],
      "metadata": {
        "id": "LgmRaR507lcQ"
      },
      "execution_count": null,
      "outputs": []
    },
    {
      "cell_type": "code",
      "source": [
        "print(movies.dist_by_release())\n",
        "%timeit(movies.dist_by_release())"
      ],
      "metadata": {
        "id": "2ZDSbIpo7trR"
      },
      "execution_count": null,
      "outputs": []
    },
    {
      "cell_type": "code",
      "source": [
        "n = 10\n",
        "print(movies.most_genres(n))\n",
        "%timeit(movies.most_genres(n))"
      ],
      "metadata": {
        "id": "OHWOnkSz7txq"
      },
      "execution_count": null,
      "outputs": []
    },
    {
      "cell_type": "markdown",
      "source": [
        "Класс Ratings"
      ],
      "metadata": {
        "id": "h86d-PnD6S8X"
      }
    },
    {
      "cell_type": "code",
      "source": [
        "class Ratings:\n",
        "\t\"\"\"\n",
        "\tAnalyzing data from ratings.csv\n",
        "\t\"\"\"\n",
        "\tdef __init__(self, path_to_the_file):\n",
        "\t\t\"\"\"\n",
        "\t\tPut here any fields that you think you will need.\n",
        "\t\t\"\"\"\n",
        "\tclass Movies:    \n",
        "\t\tdef dist_by_year(self):\n",
        "\t\t\t\"\"\"\n",
        "\t\t\tThe method returns a dict where the keys are years and the values are counts. \n",
        "\t\t\tSort it by years ascendingly. You need to extract years from timestamps.\n",
        "\t\t\t\"\"\"\n",
        "\t\t\treturn ratings_by_year\n",
        "\t\t\n",
        "\t\tdef dist_by_rating(self):\n",
        "\t\t\t\"\"\"\n",
        "\t\t\tThe method returns a dict where the keys are ratings and the values are counts.\n",
        "\t\t\tSort it by ratings ascendingly.\n",
        "\t\t\t\"\"\"\n",
        "\t\t\treturn ratings_distribution\n",
        "        \n",
        "\t\tdef top_by_num_of_ratings(self, n):\n",
        "\t\t\t\"\"\"\n",
        "\t\t\tThe method returns top-n movies by the number of ratings. \n",
        "\t\t\tIt is a dict where the keys are movie titles and the values are numbers.\n",
        "\t\tSort it by numbers descendingly.\n",
        "\t\t\t\"\"\"\n",
        "\t\t\treturn top_movies\n",
        "\t\t\n",
        "\t\tdef top_by_ratings(self, n, metric=average):\n",
        "\t\t\t\"\"\"\n",
        "\t\t\tThe method returns top-n movies by the average or median of the ratings.\n",
        "\t\t\tIt is a dict where the keys are movie titles and the values are metric values.\n",
        "\t\t\tSort it by metric descendingly.\n",
        "\t\t\tThe values should be rounded to 2 decimals.\n",
        "\t\t\t\"\"\"\n",
        "\t\t\treturn top_movies\n",
        "        \n",
        "\t\tdef top_controversial(self, n):\n",
        "\t\t\t\"\"\"\n",
        "\t\t\tThe method returns top-n movies by the variance of the ratings.\n",
        "\t\t\tIt is a dict where the keys are movie titles and the values are the variances.\n",
        "\t\t\tSort it by variance descendingly.\n",
        "\t\t\tThe values should be rounded to 2 decimals.\n",
        "\t\t\t\"\"\"\n",
        "\t\t\treturn top_movies\n",
        "\n",
        "\t\tclass Users:\n",
        "\t\t\t\"\"\"\n",
        "\t\t\tIn this class, three methods should work. \n",
        "\t\t\tThe 1st returns the distribution of users by the number of ratings made by them.\n",
        "\t\t\tThe 2nd returns the distribution of users by average or median ratings made by them.\n",
        "\t\t\tThe 3rd returns top-n users with the biggest variance of their ratings.\n",
        "\t\t\tInherit from the class Movies. Several methods are similar to the methods from it.\n",
        "\t\t\t\"\"\""
      ],
      "metadata": {
        "id": "IQzNmgRR6SPH"
      },
      "execution_count": null,
      "outputs": []
    },
    {
      "cell_type": "markdown",
      "source": [
        "Проверка методов класса Ratings\n",
        "\n"
      ],
      "metadata": {
        "id": "3K2j-gRz6hDw"
      }
    },
    {
      "cell_type": "code",
      "source": [
        "rating = Ratings(\"/content/drive/MyDrive/ratings.csv\")\n",
        "rating_moves = rating.Movies()\n",
        "print(rating_moves.dist_by_year())\n",
        "%timeit(rating_moves.dist_by_year())"
      ],
      "metadata": {
        "id": "jjgOybop6ge_"
      },
      "execution_count": null,
      "outputs": []
    },
    {
      "cell_type": "code",
      "source": [
        "print(rating_moves.top_by_num_of_ratings())\n",
        "%timeit(rating_moves.dist_by_year())"
      ],
      "metadata": {
        "id": "CgUM4JtL6gQg"
      },
      "execution_count": null,
      "outputs": []
    },
    {
      "cell_type": "code",
      "source": [
        "print(rating_moves.top_by_num_of_ratings())\n",
        "%timeit(rating_moves.dist_by_rating())"
      ],
      "metadata": {
        "id": "caGydjr56gJ_"
      },
      "execution_count": null,
      "outputs": []
    },
    {
      "cell_type": "code",
      "source": [
        "print(rating_moves.top_by_ratings())\n",
        "%timeit(rating_moves.top_by_ratings())"
      ],
      "metadata": {
        "id": "LY3mQfES6gCH"
      },
      "execution_count": null,
      "outputs": []
    },
    {
      "cell_type": "code",
      "source": [
        "print(rating_moves.top_controversial())\n",
        "%timeit(rating_moves.top_controversial())"
      ],
      "metadata": {
        "id": "-BFqSO4j9Xh_"
      },
      "execution_count": null,
      "outputs": []
    },
    {
      "cell_type": "code",
      "source": [
        "rating_users = rating.Users()"
      ],
      "metadata": {
        "id": "rMUPlny99XaQ"
      },
      "execution_count": null,
      "outputs": []
    }
  ]
}